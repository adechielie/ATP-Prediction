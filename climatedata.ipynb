{
  "cells": [
    {
      "cell_type": "markdown",
      "metadata": {
        "id": "view-in-github",
        "colab_type": "text"
      },
      "source": [
        "<a href=\"https://colab.research.google.com/github/adechielie/ATP-Prediction/blob/main/climatedata.ipynb\" target=\"_parent\"><img src=\"https://colab.research.google.com/assets/colab-badge.svg\" alt=\"Open In Colab\"/></a>"
      ]
    },
    {
      "cell_type": "code",
      "execution_count": 14,
      "metadata": {
        "colab": {
          "base_uri": "https://localhost:8080/"
        },
        "id": "uXx7GrY_dMge",
        "outputId": "c6a188d4-88bb-448b-ce3a-7037eeefcecd"
      },
      "outputs": [
        {
          "output_type": "stream",
          "name": "stdout",
          "text": [
            "✅ https://raw.githubusercontent.com/JeffSackmann/tennis_atp/master/atp_matches_2000.csv téléchargé avec succès\n",
            "✅ https://raw.githubusercontent.com/JeffSackmann/tennis_atp/master/atp_matches_2001.csv téléchargé avec succès\n",
            "✅ https://raw.githubusercontent.com/JeffSackmann/tennis_atp/master/atp_matches_2002.csv téléchargé avec succès\n",
            "✅ https://raw.githubusercontent.com/JeffSackmann/tennis_atp/master/atp_matches_2003.csv téléchargé avec succès\n",
            "✅ https://raw.githubusercontent.com/JeffSackmann/tennis_atp/master/atp_matches_2004.csv téléchargé avec succès\n",
            "✅ https://raw.githubusercontent.com/JeffSackmann/tennis_atp/master/atp_matches_2005.csv téléchargé avec succès\n",
            "✅ https://raw.githubusercontent.com/JeffSackmann/tennis_atp/master/atp_matches_2006.csv téléchargé avec succès\n",
            "✅ https://raw.githubusercontent.com/JeffSackmann/tennis_atp/master/atp_matches_2007.csv téléchargé avec succès\n",
            "✅ https://raw.githubusercontent.com/JeffSackmann/tennis_atp/master/atp_matches_2008.csv téléchargé avec succès\n",
            "✅ https://raw.githubusercontent.com/JeffSackmann/tennis_atp/master/atp_matches_2009.csv téléchargé avec succès\n",
            "✅ https://raw.githubusercontent.com/JeffSackmann/tennis_atp/master/atp_matches_2010.csv téléchargé avec succès\n",
            "✅ https://raw.githubusercontent.com/JeffSackmann/tennis_atp/master/atp_matches_2011.csv téléchargé avec succès\n",
            "✅ https://raw.githubusercontent.com/JeffSackmann/tennis_atp/master/atp_matches_2012.csv téléchargé avec succès\n",
            "✅ https://raw.githubusercontent.com/JeffSackmann/tennis_atp/master/atp_matches_2013.csv téléchargé avec succès\n",
            "✅ https://raw.githubusercontent.com/JeffSackmann/tennis_atp/master/atp_matches_2014.csv téléchargé avec succès\n",
            "✅ https://raw.githubusercontent.com/JeffSackmann/tennis_atp/master/atp_matches_2015.csv téléchargé avec succès\n",
            "✅ https://raw.githubusercontent.com/JeffSackmann/tennis_atp/master/atp_matches_2016.csv téléchargé avec succès\n",
            "✅ https://raw.githubusercontent.com/JeffSackmann/tennis_atp/master/atp_matches_2017.csv téléchargé avec succès\n",
            "✅ https://raw.githubusercontent.com/JeffSackmann/tennis_atp/master/atp_matches_2018.csv téléchargé avec succès\n",
            "✅ https://raw.githubusercontent.com/JeffSackmann/tennis_atp/master/atp_matches_2019.csv téléchargé avec succès\n",
            "✅ https://raw.githubusercontent.com/JeffSackmann/tennis_atp/master/atp_matches_2020.csv téléchargé avec succès\n",
            "✅ https://raw.githubusercontent.com/JeffSackmann/tennis_atp/master/atp_matches_2021.csv téléchargé avec succès\n",
            "✅ https://raw.githubusercontent.com/JeffSackmann/tennis_atp/master/atp_matches_2022.csv téléchargé avec succès\n",
            "✅ https://raw.githubusercontent.com/JeffSackmann/tennis_atp/master/atp_matches_2023.csv téléchargé avec succès\n",
            "✅ https://raw.githubusercontent.com/JeffSackmann/tennis_atp/master/atp_matches_2024.csv téléchargé avec succès\n"
          ]
        }
      ],
      "source": [
        "import pandas as pd\n",
        "\n",
        "# URL de base du dépôt GitHub\n",
        "base_url = \"https://raw.githubusercontent.com/JeffSackmann/tennis_atp/master/\"\n",
        "\n",
        "# Générer la liste des fichiers à récupérer (de 2000 à 2024)\n",
        "years = range(2000, 2025)  # 2025 exclu, donc va jusqu'à 2024\n",
        "file_urls = [f\"{base_url}atp_matches_{year}.csv\" for year in years]\n",
        "\n",
        "# Télécharger et fusionner les fichiers\n",
        "dfs = []  # Liste pour stocker chaque DataFrame\n",
        "\n",
        "for url in file_urls:\n",
        "    try:\n",
        "        df = pd.read_csv(url)  # Charger les données\n",
        "        dfs.append(df)  # Ajouter le DataFrame à la liste\n",
        "        print(f\"✅ {url} téléchargé avec succès\")\n",
        "    except Exception as e:\n",
        "        print(f\"⚠️ Erreur lors du téléchargement de {url}: {e}\")\n",
        "\n",
        "# Fusionner tous les fichiers en un seul DataFrame\n",
        "atp_data = pd.concat(dfs, ignore_index=True)\n"
      ]
    },
    {
      "cell_type": "code",
      "execution_count": 15,
      "metadata": {
        "id": "VIEzCFJ3nMVx"
      },
      "outputs": [],
      "source": [
        "tourney_name = atp_data['tourney_name'].unique()\n",
        "df_tourney = pd.DataFrame(tourney_name, columns=[\"tourney_name\"])"
      ]
    },
    {
      "cell_type": "code",
      "execution_count": null,
      "metadata": {
        "colab": {
          "base_uri": "https://localhost:8080/",
          "height": 69
        },
        "id": "jtEGPgjqzJtG",
        "outputId": "34fb6d4c-a251-4f17-c111-bc421e404218"
      },
      "outputs": [
        {
          "data": {
            "text/plain": [
              "array(['Auckland', 'St. Poelten', 'Munich', ...,\n",
              "       'Davis Cup WG2 PO: TUN vs CRC', 'Davis Cup WG2 PO: URU vs MDA',\n",
              "       'Davis Cup WG2 PO: VIE vs RSA'], dtype=object)"
            ]
          },
          "metadata": {},
          "output_type": "display_data"
        }
      ],
      "source": [
        "# Nombre de tournois\n",
        "display(atp_data['tourney_name'].unique())"
      ]
    },
    {
      "cell_type": "code",
      "execution_count": 16,
      "metadata": {
        "colab": {
          "base_uri": "https://localhost:8080/"
        },
        "id": "FkLQUWyXM51F",
        "outputId": "35507b9e-6646-40ff-fa81-fc5d8bfb85d4"
      },
      "outputs": [
        {
          "output_type": "stream",
          "name": "stdout",
          "text": [
            "il y'a eu 6987 matchs de Davis Cup entre 2000 et 2024\n"
          ]
        }
      ],
      "source": [
        "# Filtrer les lignes où 'tourney_name' commence par 'Davis Cup' et compter\n",
        "count = atp_data[atp_data['tourney_name'].str.startswith('Davis Cup', na=False)].shape[0]\n",
        "\n",
        "print(f\"il y'a eu {count} matchs de Davis Cup entre 2000 et 2024\")"
      ]
    },
    {
      "cell_type": "code",
      "execution_count": 17,
      "metadata": {
        "colab": {
          "base_uri": "https://localhost:8080/"
        },
        "id": "4KZmOcSdOg3F",
        "outputId": "6d47d109-c50c-4039-87ca-b59a6cab43cc"
      },
      "outputs": [
        {
          "output_type": "stream",
          "name": "stdout",
          "text": [
            "74906\n"
          ]
        }
      ],
      "source": [
        "# Nombre de matchs total du dataset\n",
        "print(atp_data.shape[0])"
      ]
    },
    {
      "cell_type": "code",
      "execution_count": 18,
      "metadata": {
        "id": "wA97tpE_PJA2"
      },
      "outputs": [],
      "source": [
        "# Supression des matchs de Davis Cup\n",
        "atp_data = atp_data[-atp_data['tourney_name'].str.startswith(\"Davis Cup\")]"
      ]
    },
    {
      "cell_type": "code",
      "execution_count": 19,
      "metadata": {
        "colab": {
          "base_uri": "https://localhost:8080/"
        },
        "id": "KOe4-pwsQK8Q",
        "outputId": "79d1711c-b55d-42d4-87fc-b6531297fb34"
      },
      "outputs": [
        {
          "output_type": "stream",
          "name": "stdout",
          "text": [
            "67919\n"
          ]
        }
      ],
      "source": [
        "# Nouveau nombre de matchs total du dataset\n",
        "print(atp_data.shape[0])"
      ]
    },
    {
      "cell_type": "code",
      "execution_count": 18,
      "metadata": {
        "colab": {
          "base_uri": "https://localhost:8080/",
          "height": 642
        },
        "id": "03GYRfx3QrQf",
        "outputId": "31928d87-28ee-4cac-fe9e-d9caf2a7c05a"
      },
      "outputs": [
        {
          "output_type": "display_data",
          "data": {
            "text/plain": [
              "array(['Auckland', 'St. Poelten', 'Munich', \"Queen's Club\", 'Gstaad',\n",
              "       'Newport', 'Bastad', 'Amsterdam', 'Kitzbuhel', 'Stuttgart Outdoor',\n",
              "       'Palermo', 'Toulouse', 'Basel', 'Tokyo', 'Hong Kong', 'Vienna',\n",
              "       'Sydney', 'Adelaide', 'Paris Masters', 'Stuttgart Masters',\n",
              "       'Bogota', 'Casablanca', 'Lyon', 'Memphis', 'Miami Masters',\n",
              "       'Indian Wells Masters', 'Rotterdam', 'London', 'Atlanta',\n",
              "       'Monte Carlo Masters', 'Hamburg Masters', 'Rome Masters',\n",
              "       'Washington', 'Indianapolis', 'Canada Masters',\n",
              "       'Cincinnati Masters', 'Los Angeles', 'San Jose', 'Barcelona',\n",
              "       'Stockholm', 'Scottsdale', 'Moscow', 'Umag', 's Hertogenbosch',\n",
              "       'Long Island', 'Doha', 'Estoril', 'San Marino', 'Copenhagen',\n",
              "       'Dubai', 'Marseille', 'Delray Beach', 'Halle', 'Santiago',\n",
              "       'Roland Garros', 'Wimbledon', 'US Open', 'St. Petersburg',\n",
              "       'Mallorca', 'Australian Open', 'Masters Cup', 'Dusseldorf',\n",
              "       'Brighton', 'Orlando', 'Tashkent', 'Nottingham', 'Bucharest',\n",
              "       'Mexico City', 'Shanghai', 'Chennai', 'Sydney Olympics',\n",
              "       'Stuttgart', 'Milan', 'Sopot', 'Vina del Mar', 'Buenos Aires',\n",
              "       'Costa Do Sauipe', 'Houston', 'Acapulco', 'Madrid Masters',\n",
              "       'Amersfoort', 'Bangkok', 'Metz', 'Valencia', 'Beijing',\n",
              "       'Athens Olympics', 'New Haven', 'Ho Chi Minh City', 'Zagreb',\n",
              "       'Poertschach', 'Mumbai', 'Las Vegas', 'Warsaw', 'Beijing Olympics',\n",
              "       'Brisbane', 'Hamburg', 'Johannesburg', 'Shanghai Masters',\n",
              "       'Belgrade', 'Kuala Lumpur', 'Tour Finals', 'Eastbourne', 'Nice',\n",
              "       'Montpellier', 'Winston-Salem', 'Sao Paulo', 'London Olympics',\n",
              "       'Rio de Janeiro', 'Shenzhen', 'Quito', 'Istanbul', 'Geneva',\n",
              "       'Sofia', 'Marrakech', 'Los Cabos', 'Rio Olympics', 'Chengdu',\n",
              "       'Antwerp', 'Budapest', 'Antalya', 'NextGen Finals', 'Laver Cup',\n",
              "       'Pune', 'New York', 'Cordoba', 'Zhuhai', 'Atp Cup',\n",
              "       'ATP Rio de Janeiro', 'Us Open', 'Cologne 1', 'Sardinia',\n",
              "       'St Petersburg', 'Cologne 2', 'Nur-Sultan', 'Tokyo Olympics',\n",
              "       'Great Ocean Road Open', 'Murray River Open', 'Singapore',\n",
              "       'Marbella', 'Cagliari', 'Parma', 'Belgrade 2', 'San Diego',\n",
              "       'Adelaide 1', 'Melbourne', 'Adelaide 2', 'Dallas', 'Belgrade ',\n",
              "       'Seoul', 'Tel Aviv', 'Astana', 'Florence', 'Gijon', 'Naples',\n",
              "       'United Cup', 'Rio De Janeiro', 'Banja Luka', 'Paris Olympics',\n",
              "       'Hangzhou', 'Almaty', 'Next Gen Finals'], dtype=object)"
            ]
          },
          "metadata": {}
        }
      ],
      "source": [
        "# Nombre de tournois\n",
        "display(atp_data['tourney_name'].unique())"
      ]
    },
    {
      "cell_type": "code",
      "execution_count": 20,
      "metadata": {
        "id": "E1kXEfX-UbpA"
      },
      "outputs": [],
      "source": [
        "atp_data['Location']=atp_data['tourney_name']"
      ]
    },
    {
      "cell_type": "code",
      "execution_count": 21,
      "metadata": {
        "colab": {
          "base_uri": "https://localhost:8080/"
        },
        "id": "S5CWxN7BU2iy",
        "outputId": "fe3b0b7b-83c1-4cf0-e185-bb9324e0c561"
      },
      "outputs": [
        {
          "output_type": "stream",
          "name": "stderr",
          "text": [
            "<ipython-input-21-a49d485f2428>:1: FutureWarning: A value is trying to be set on a copy of a DataFrame or Series through chained assignment using an inplace method.\n",
            "The behavior will change in pandas 3.0. This inplace method will never work because the intermediate object on which we are setting values always behaves as a copy.\n",
            "\n",
            "For example, when doing 'df[col].method(value, inplace=True)', try using 'df.method({col: value}, inplace=True)' or df[col] = df[col].method(value) instead, to perform the operation inplace on the original object.\n",
            "\n",
            "\n",
            "  atp_data['Location'].replace(to_replace={'Stuttgart Outdoor': 'Stuttgart',\n"
          ]
        }
      ],
      "source": [
        "atp_data['Location'].replace(to_replace={'Stuttgart Outdoor': 'Stuttgart',\n",
        "                                                'Paris Masters': 'Paris',\n",
        "                                                'Stuttgart Masters': 'Stuttgart',\n",
        "                                                'Miami Masters': 'Miami',\n",
        "                                                'Indian Wells Masters': 'Indian Wells',\n",
        "                                                'Monte Carlo Masters': 'Roquebrune-Cap-Martin',\n",
        "                                                'Hamburg Masters': 'Hamburg',\n",
        "                                                'Rome Masters': 'Rome',\n",
        "                                                'Canada Masters': 'Toronto',\n",
        "                                                'Cincinnati Masters': 'Cincinnati',\n",
        "                                                'Shanghai Masters': 'Shanghai',\n",
        "                                                'Atlanta Masters': 'Atlanta',\n",
        "                                                'Roland Garros': 'Paris',\n",
        "                                                'Buenos Aires Masters': 'Buenos Aires',\n",
        "                                                'Dubai Masters': 'Dubai',\n",
        "                                                'Vienna Masters': 'Vienna',\n",
        "                                                'Mexico City Masters': 'Mexico City',\n",
        "                                                'Wimbledon': 'London',\n",
        "                                                'Madrid Masters': 'Madrid',\n",
        "                                                'Barcelona Masters': 'Barcelona',\n",
        "                                                'US Open': 'New York',\n",
        "                                                'London Olympics': 'London',\n",
        "                                                'Paris Olympics': 'Paris',\n",
        "                                                'Tokyo Olympics': 'Tokyo',\n",
        "                                                'Rio Olympics': 'Rio de Janeiro',\n",
        "                                                'Australian Open': 'Melbourne',\n",
        "                                                'Laver Cup': 'London',\n",
        "                                                'Cologne 2': 'Cologne',\n",
        "                                                'Cologne 1': 'Cologne',\n",
        "                                                'Us Open': 'New York',\n",
        "                                                'Belgrade 2': 'Belgrade',\n",
        "                                                'Belgrade 1': 'Belgrade',\n",
        "                                                'Adelaide 2': 'Adelaide',\n",
        "                                                'Adelaide 1': 'Adelaide',\n",
        "                                                'ATP Rio de Janeiro': 'Rio de Janeiro',\n",
        "                                                'Tour Finals': 'London',\n",
        "                                                'Next Gen Finals': 'Milan',\n",
        "                                                'Sydney Olympics': 'Sydney',\n",
        "                                                'Beijing Olympics': 'Beijing',\n",
        "                                                'Great Ocean Road Open': 'Melbourne',\n",
        "                                                'Murray River Open': 'Melbourne',\n",
        "                                                 }, inplace = True\n",
        "                                         )"
      ]
    },
    {
      "cell_type": "code",
      "source": [
        "print(atp_data['Location'].unique())"
      ],
      "metadata": {
        "colab": {
          "base_uri": "https://localhost:8080/"
        },
        "id": "OHPwMTfzOqRB",
        "outputId": "276b05bd-4ebd-48a7-c5a4-66f5c3722372"
      },
      "execution_count": 21,
      "outputs": [
        {
          "output_type": "stream",
          "name": "stdout",
          "text": [
            "['Auckland' 'St. Poelten' 'Munich' \"Queen's Club\" 'Gstaad' 'Newport'\n",
            " 'Bastad' 'Amsterdam' 'Kitzbuhel' 'Stuttgart' 'Palermo' 'Toulouse' 'Basel'\n",
            " 'Tokyo' 'Hong Kong' 'Vienna' 'Sydney' 'Adelaide' 'Paris' 'Bogota'\n",
            " 'Casablanca' 'Lyon' 'Memphis' 'Miami' 'Indian Wells' 'Rotterdam' 'London'\n",
            " 'Atlanta' 'Roquebrune-Cap-Martin' 'Hamburg' 'Rome' 'Washington'\n",
            " 'Indianapolis' 'Toronto' 'Cincinnati' 'Los Angeles' 'San Jose'\n",
            " 'Barcelona' 'Stockholm' 'Scottsdale' 'Moscow' 'Umag' 's Hertogenbosch'\n",
            " 'Long Island' 'Doha' 'Estoril' 'San Marino' 'Copenhagen' 'Dubai'\n",
            " 'Marseille' 'Delray Beach' 'Halle' 'Santiago' 'New York' 'St. Petersburg'\n",
            " 'Mallorca' 'Melbourne' 'Masters Cup' 'Dusseldorf' 'Brighton' 'Orlando'\n",
            " 'Tashkent' 'Nottingham' 'Bucharest' 'Mexico City' 'Shanghai' 'Chennai'\n",
            " 'Milan' 'Sopot' 'Vina del Mar' 'Buenos Aires' 'Costa Do Sauipe' 'Houston'\n",
            " 'Acapulco' 'Madrid' 'Amersfoort' 'Bangkok' 'Metz' 'Valencia' 'Beijing'\n",
            " 'Athens Olympics' 'New Haven' 'Ho Chi Minh City' 'Zagreb' 'Poertschach'\n",
            " 'Mumbai' 'Las Vegas' 'Warsaw' 'Brisbane' 'Johannesburg' 'Belgrade'\n",
            " 'Kuala Lumpur' 'Eastbourne' 'Nice' 'Montpellier' 'Winston-Salem'\n",
            " 'Sao Paulo' 'Rio de Janeiro' 'Shenzhen' 'Quito' 'Istanbul' 'Geneva'\n",
            " 'Sofia' 'Marrakech' 'Los Cabos' 'Chengdu' 'Antwerp' 'Budapest' 'Antalya'\n",
            " 'NextGen Finals' 'Pune' 'Cordoba' 'Zhuhai' 'Atp Cup' 'Cologne' 'Sardinia'\n",
            " 'St Petersburg' 'Nur-Sultan' 'Singapore' 'Marbella' 'Cagliari' 'Parma'\n",
            " 'San Diego' 'Dallas' 'Belgrade ' 'Seoul' 'Tel Aviv' 'Astana' 'Florence'\n",
            " 'Gijon' 'Naples' 'United Cup' 'Rio De Janeiro' 'Banja Luka' 'Hangzhou'\n",
            " 'Almaty']\n"
          ]
        }
      ]
    },
    {
      "cell_type": "code",
      "execution_count": 26,
      "metadata": {
        "id": "Mp2TtczVZm27"
      },
      "outputs": [],
      "source": [
        "import requests\n",
        "import pandas as pd\n",
        "import time\n",
        "\n",
        "# Liste des villes après remplacement\n",
        "locations = {\n",
        "    \"Stuttgart\": None, \"Paris\": None, \"Miami\": None, \"Indian Wells\": None, \"Roquebrune-Cap-Martin\": None,\n",
        "    \"Hamburg\": None, \"Rome\": None, \"Toronto\": None, \"Cincinnati\": None, \"Shanghai\": None, \"Atlanta\": None,\n",
        "    \"Buenos Aires\": None, \"Dubai\": None, \"Vienna\": None, \"Mexico City\": None, \"London\": None, \"Madrid\": None,\n",
        "    \"Barcelona\": None, \"New York\": None, \"Tokyo\": None, \"Rio de Janeiro\": None, \"Melbourne\": None, \"Auckland\": None,\n",
        "    \"St. Poelten\": None, \"Munich\": None, \"Gstaad\": None, \"Newport\": None, \"Bastad\": None, \"Amsterdam\": None,\n",
        "    \"Kitzbuhel\": None, \"Palermo\": None, \"Toulouse\": None, \"Basel\": None, \"Bogota\": None, \"Casablanca\": None,\n",
        "    \"Lyon\": None, \"Memphis\": None, \"Rotterdam\": None, \"Washington\": None, \"Indianapolis\": None, \"Los Angeles\": None,\n",
        "    \"San Jose\": None, \"Stockholm\": None, \"Scottsdale\": None, \"Moscow\": None, \"Umag\": None, \"s Hertogenbosch\": None,\n",
        "    \"Long Island\": None, \"Doha\": None, \"Estoril\": None, \"San Marino\": None, \"Copenhagen\": None, \"Marseille\": None,\n",
        "    \"Delray Beach\": None, \"Halle\": None, \"Santiago\": None, \"Mallorca\": None, \"Dusseldorf\": None, \"Brighton\": None,\n",
        "    \"Orlando\": None, \"Tashkent\": None, \"Nottingham\": None, \"Bucharest\": None, \"Chennai\": None, \"Milan\": None,\n",
        "    \"Sopot\": None, \"Vina del Mar\": None, \"Costa Do Sauipe\": None, \"Houston\": None, \"Acapulco\": None, \"Amersfoort\": None,\n",
        "    \"Bangkok\": None, \"Metz\": None, \"Valencia\": None, \"Beijing\": None, \"Athens\": None, \"New Haven\": None,\n",
        "    \"Ho Chi Minh City\": None, \"Zagreb\": None, \"Poertschach\": None, \"Mumbai\": None, \"Las Vegas\": None, \"Warsaw\": None,\n",
        "    \"Brisbane\": None, \"Johannesburg\": None, \"Belgrade\": None, \"Kuala Lumpur\": None, \"Eastbourne\": None, \"Nice\": None,\n",
        "    \"Montpellier\": None, \"Winston-Salem\": None, \"Sao Paulo\": None, \"Shenzhen\": None, \"Quito\": None, \"Istanbul\": None,\n",
        "    \"Geneva\": None, \"Sofia\": None, \"Marrakech\": None, \"Los Cabos\": None, \"Chengdu\": None, \"Antwerp\": None,\n",
        "    \"Budapest\": None, \"Antalya\": None, \"Pune\": None, \"Cordoba\": None, \"Zhuhai\": None, \"Cologne\": None, \"Sardinia\": None,\n",
        "    \"St. Petersburg\": None, \"Nur-Sultan\": None, \"Singapore\": None, \"Marbella\": None, \"Cagliari\": None, \"Parma\": None,\n",
        "    \"San Diego\": None, \"Dallas\": None, \"Seoul\": None, \"Tel Aviv\": None, \"Astana\": None, \"Florence\": None, \"Gijon\": None,\n",
        "    \"Naples\": None, \"Banja Luka\": None, \"Hangzhou\": None, \"Almaty\": None\n",
        "}\n",
        "\n",
        "def get_all_city_coordinates():\n",
        "    \"\"\"Récupère les coordonnées GPS de toutes les villes en une seule fois.\"\"\"\n",
        "    headers = {\n",
        "        \"User-Agent\": \"prediction_atp (adechielie@yahoo.fr)\"\n",
        "    }\n",
        "\n",
        "    for city in locations.keys():\n",
        "        geocode_url = f\"https://nominatim.openstreetmap.org/search?city={city}&format=json\"\n",
        "        response = requests.get(geocode_url, headers=headers)  # Ajout des headers\n",
        "        time.sleep(1)  # Pause pour éviter le blocage\n",
        "\n",
        "        try:\n",
        "            response_json = response.json()\n",
        "            if response_json:\n",
        "                locations[city] = (float(response_json[0][\"lat\"]), float(response_json[0][\"lon\"]))\n",
        "            else:\n",
        "                print(f\"⚠️ Coordonnées introuvables pour {city}\")\n",
        "        except requests.exceptions.JSONDecodeError:\n",
        "            print(f\"❌ Erreur JSON pour {city}\")\n",
        "\n",
        "get_all_city_coordinates()\n",
        "\n"
      ]
    },
    {
      "cell_type": "code",
      "source": [
        "import pandas as pd\n",
        "from meteostat import Daily, Point\n",
        "from datetime import datetime\n",
        "\n",
        "# Définir les dates pour l'historique météo\n",
        "START_DATE = datetime(2016, 1, 1)\n",
        "END_DATE = datetime(2024, 12, 31)\n",
        "\n",
        "# Vérifier que locations est bien défini\n",
        "try:\n",
        "    print(\"📍 Liste des villes:\", locations)\n",
        "except NameError:\n",
        "    print(\"❌ Erreur : La variable 'locations' n'est pas définie.\")\n",
        "    locations = {}  # Empêcher l'erreur\n",
        "\n",
        "def fetch_weather_data():\n",
        "    \"\"\"Récupère les températures et vent via MeteoStat.\"\"\"\n",
        "    all_data = []\n",
        "\n",
        "    for city, coords in locations.items():\n",
        "        if coords is not None:\n",
        "            lat, lon = coords\n",
        "\n",
        "            try:\n",
        "                # Créer un Point MeteoStat\n",
        "                location = Point(lat, lon)\n",
        "\n",
        "                # Récupérer les données météo historiques\n",
        "                data = Daily(location, start=START_DATE, end=END_DATE)\n",
        "                data = data.fetch()  # Récupérer sous forme de DataFrame\n",
        "\n",
        "                if data.empty:\n",
        "                    print(f\"⚠️ Pas de données météo pour {city}\")\n",
        "                    continue\n",
        "\n",
        "                # Ajouter la colonne Ville\n",
        "                data[\"City\"] = city\n",
        "                data.reset_index(inplace=True)\n",
        "\n",
        "                # Sélectionner les colonnes nécessaires\n",
        "                data = data[[\"City\", \"time\", \"tmax\", \"wspd\"]]\n",
        "                data.columns = [\"City\", \"Date\", \"Temperature\", \"Wind_speed\"]\n",
        "\n",
        "                all_data.append(data)\n",
        "\n",
        "            except Exception as e:\n",
        "                print(f\"❌ Erreur pour {city}: {e}\")\n",
        "\n",
        "    # Concaténer toutes les données\n",
        "    if all_data:\n",
        "        return pd.concat(all_data, ignore_index=True)\n",
        "    else:\n",
        "        return pd.DataFrame(columns=[\"City\", \"Date\", \"Temperature\", \"Wind_speed\"])\n",
        "\n",
        "# Exécuter la fonction\n",
        "df_weather = fetch_weather_data()\n",
        "\n",
        "# Afficher les 10 premières lignes\n",
        "print(df_weather.head())\n"
      ],
      "metadata": {
        "id": "DXuNBw4aJRZe"
      },
      "execution_count": null,
      "outputs": []
    },
    {
      "cell_type": "code",
      "source": [
        "import openmeteo_requests\n",
        "\n",
        "import requests_cache\n",
        "import pandas as pd\n",
        "from retry_requests import retry\n",
        "\n",
        "\n",
        "# Définition des dates pour limiter l'appel API\n",
        "START_DATE = \"2000-01-01\"\n",
        "END_DATE = \"2024-01-31\"\n",
        "BASE_URL = \"https://archive-api.open-meteo.com/v1/archive\"\n",
        "\n",
        "def fetch_weather_data():\n",
        "    \"\"\"Récupère les températures et l'humidité journalières pour toutes les villes en un seul appel API.\"\"\"\n",
        "    latitudes = []\n",
        "    longitudes = []\n",
        "    city_names = []\n",
        "    print(\"📍 Locations avec coordonnées:\", locations)\n",
        "\n",
        "    for city, coords in locations.items():\n",
        "        if coords is not None:  # Vérifier que les coordonnées existent\n",
        "            latitudes.append(str(coords[0]))\n",
        "            longitudes.append(str(coords[1]))\n",
        "            city_names.append(city)\n",
        "\n",
        "    print(\"📍 Latitudes:\", latitudes)\n",
        "    print(\"📍 Longitudes:\", longitudes)\n",
        "    print(\"📍 Cities:\", city_names)\n",
        "\n",
        "    if not latitudes:\n",
        "        print(\"🚨 Aucune ville valide avec des coordonnées. Vérifie ton fichier de locations.\")\n",
        "        return pd.DataFrame(columns=[\"City\", \"Date\", \"Temperature\", \"Humidity\"])  # Renvoie un DataFrame vide\n",
        "\n",
        "    params = {\n",
        "        \"latitude\": \",\".join(latitudes),\n",
        "        \"longitude\": \",\".join(longitudes),\n",
        "        \"start_date\": START_DATE,\n",
        "        \"end_date\": END_DATE,\n",
        "        \"daily\": \"temperature_2m_max,wind_speed_10m_max\",\n",
        "        \"timezone\": \"auto\"\n",
        "    }\n",
        "\n",
        "    try:\n",
        "        response = requests.get(BASE_URL, params=params, timeout=30)  # ⏳ Timeout ajouté\n",
        "        response.raise_for_status()  # 🚨 Vérifie si erreur HTTP (404, 500, etc.)\n",
        "        data = response.json()\n",
        "        print(data)\n",
        "    except requests.exceptions.RequestException as e:\n",
        "        print(f\"❌ Erreur lors de la requête : {e}\")\n",
        "        return pd.DataFrame(columns=[\"City\", \"Date\", \"Temperature\", \"Wind_speed\"])\n",
        "\n",
        "    # Vérification et extraction des données\n",
        "    if \"daily\" not in data:\n",
        "        print(\"❌ Données météo non disponibles\")\n",
        "        return pd.DataFrame(columns=[\"City\", \"Date\", \"Temperature\", \"Wind_speed\"])\n",
        "\n",
        "    all_data = []\n",
        "    # 📊 Extraire les données météo\n",
        "    daily_data = data.get(\"daily\", {})\n",
        "\n",
        "    for i, city in enumerate(city_names):\n",
        "        for date, temp, wind in zip(\n",
        "            daily_data.get(\"time\", []),\n",
        "            daily_data.get(\"temperature_2m_max\", []),\n",
        "            daily_data.get(\"wind_speed_10m_max\", [])\n",
        "        ):\n",
        "            all_data.append([city, date, temp, wind])\n",
        "\n",
        "    return pd.DataFrame(all_data, columns=[\"City\", \"Date\", \"Temperature\", \"Wind_speed\"])\n",
        "\n",
        "df_weather = fetch_weather_data()\n",
        "\n",
        "# Vérifier la sortie\n",
        "print(df_weather.head())\n"
      ],
      "metadata": {
        "colab": {
          "base_uri": "https://localhost:8080/"
        },
        "id": "jlmZ6gPCWOQy",
        "outputId": "b03a65ff-4c66-4a52-d88c-31d1a58b640c"
      },
      "execution_count": 24,
      "outputs": [
        {
          "output_type": "stream",
          "name": "stdout",
          "text": [
            "📍 Locations avec coordonnées: {'Stuttgart': (48.7784485, 9.1800132), 'Paris': (48.8588897, 2.3200410217200766), 'Miami': (25.7741728, -80.19362), 'Indian Wells': (33.7217965, -116.338303), 'Roquebrune-Cap-Martin': (43.7641047, 7.4565697), 'Hamburg': (53.550341, 10.000654), 'Rome': (41.8933203, 12.4829321), 'Toronto': (43.6534817, -79.3839347), 'Cincinnati': (39.1014537, -84.5124602), 'Shanghai': (31.2323437, 121.4691024), 'Atlanta': (33.7489924, -84.3902644), 'Buenos Aires': (-34.6083696, -58.4440583), 'Dubai': (25.074282349999997, 55.18853865430702), 'Vienna': (48.2083537, 16.3725042), 'Mexico City': (19.4326296, -99.1331785), 'London': (51.5074456, -0.1277653), 'Madrid': (40.4167047, -3.7035825), 'Barcelona': (41.3828939, 2.1774322), 'New York': (40.7127281, -74.0060152), 'Tokyo': (35.6768601, 139.7638947), 'Rio de Janeiro': (-22.9110137, -43.2093727), 'Melbourne': (-37.8142454, 144.9631732), 'Auckland': (-36.852095, 174.7631803), 'St. Poelten': (48.2043985, 15.6229118), 'Munich': (48.1371079, 11.5753822), 'Gstaad': (46.4761004, 7.2873587), 'Newport': (41.4899827, -71.3137707), 'Bastad': (56.4267895, 12.8607151), 'Amsterdam': (52.3730796, 4.8924534), 'Kitzbuhel': (47.4463585, 12.3911473), 'Palermo': (38.1112268, 13.3524434), 'Toulouse': (43.6044622, 1.4442469), 'Basel': (47.5581077, 7.5878261), 'Bogota': (4.711011, -74.0720917), 'Casablanca': (33.5945144, -7.6200284), 'Lyon': (45.7578137, 4.8320114), 'Memphis': (35.1460249, -90.0517638), 'Rotterdam': (51.9244424, 4.47775), 'Washington': (38.8950368, -77.0365427), 'Indianapolis': (39.7683331, -86.1583502), 'Los Angeles': (34.0536909, -118.242766), 'San Jose': (37.3361663, -121.890591), 'Stockholm': (59.3251172, 18.0710935), 'Scottsdale': (33.4942189, -111.926018), 'Moscow': (46.7323875, -117.000165), 'Umag': (45.4323587, 13.5224098), 's Hertogenbosch': (51.6889387, 5.303116), 'Long Island': (40.85149705, -73.09942966988302), 'Doha': (25.2856329, 51.5264162), 'Estoril': (38.70957065, -9.390136815849147), 'San Marino': (43.9363996, 12.4466991), 'Copenhagen': (55.6867243, 12.5700724), 'Marseille': (43.2961743, 5.3699525), 'Delray Beach': (26.4614625, -80.0728201), 'Halle': (51.4825041, 11.9705452), 'Santiago': (9.8694792, -83.7980749), 'Mallorca': (39.613432, 2.8829184529439633), 'Dusseldorf': (51.2254018, 6.7763137), 'Brighton': (50.8214626, -0.1400561), 'Orlando': (28.5421109, -81.3790304), 'Tashkent': (41.3123363, 69.2787079), 'Nottingham': (52.9534193, -1.1496461), 'Bucharest': (44.4361414, 26.1027202), 'Chennai': (13.0836939, 80.270186), 'Milan': (45.4641943, 9.1896346), 'Sopot': (54.4430399, 18.561309520130756), 'Vina del Mar': (-33.0244535, -71.5517636), 'Costa Do Sauipe': (-12.4391251, -37.9233062), 'Houston': (29.7589382, -95.3676974), 'Acapulco': (16.8680495, -99.8940182), 'Amersfoort': (52.16377025, 5.408884537568014), 'Bangkok': (13.7524938, 100.4935089), 'Metz': (49.1196964, 6.1763552), 'Valencia': (39.4697065, -0.3763353), 'Beijing': (39.9057136, 116.3912972), 'Athens': (33.9597677, -83.376398), 'New Haven': (41.3082138, -72.9250518), 'Ho Chi Minh City': (10.7763897, 106.7011391), 'Zagreb': (45.8130967, 15.9772795), 'Poertschach': (46.6359543, 14.1448209), 'Mumbai': (19.054999, 72.8692035), 'Las Vegas': (36.1672559, -115.148516), 'Warsaw': (52.2337172, 21.071432235636493), 'Brisbane': (-27.4689682, 153.0234991), 'Johannesburg': (-26.205, 28.049722), 'Belgrade': (45.773279, -111.184535), 'Kuala Lumpur': (3.1516964, 101.6942371), 'Eastbourne': (50.7664372, 0.2781546), 'Nice': (43.7009358, 7.2683912), 'Montpellier': (43.6112422, 3.8767337), 'Winston-Salem': (36.0998131, -80.2440518), 'Sao Paulo': (-23.5506507, -46.6333824), 'Shenzhen': (22.5445741, 114.0545429), 'Quito': (-0.2201641, -78.5123274), 'Istanbul': (41.006381, 28.9758715), 'Geneva': (46.2017559, 6.1466014), 'Sofia': (46.843063, 28.3807399), 'Marrakech': (31.6258257, -7.9891608), 'Los Cabos': (43.5139571, -6.1001155), 'Chengdu': (30.6598628, 104.0633717), 'Antwerp': (51.2211097, 4.3997081), 'Budapest': (47.4978789, 19.0402383), 'Antalya': (36.8865728, 30.7030242), 'Pune': (18.5213738, 73.8545071), 'Cordoba': (37.8845813, -4.7760138), 'Zhuhai': (22.07045535, 113.7209194273619), 'Cologne': (43.7218277, 0.9774958), 'Sardinia': (42.5411733, -78.5080766), 'St. Petersburg': (27.7700475, -82.6359078), 'Nur-Sultan': (51.1282205, 71.4306682), 'Singapore': (1.2899175, 103.8519072), 'Marbella': (36.508976, -4.88562), 'Cagliari': (39.2171994, 9.113311), 'Parma': (44.8013678, 10.3280833), 'San Diego': (32.7174202, -117.162772), 'Dallas': (32.7762719, -96.7968559), 'Seoul': (37.5666791, 126.9782914), 'Tel Aviv': (32.0852997, 34.7818064), 'Astana': (51.1282205, 71.4306682), 'Florence': (43.7697955, 11.2556404), 'Gijon': (43.5449422, -5.66275), 'Naples': (40.8358846, 14.2487679), 'Banja Luka': (44.7720845, 17.1917651), 'Hangzhou': (30.2489634, 120.2052342), 'Almaty': (43.2363924, 76.9457275)}\n",
            "📍 Latitudes: ['48.7784485', '48.8588897', '25.7741728', '33.7217965', '43.7641047', '53.550341', '41.8933203', '43.6534817', '39.1014537', '31.2323437', '33.7489924', '-34.6083696', '25.074282349999997', '48.2083537', '19.4326296', '51.5074456', '40.4167047', '41.3828939', '40.7127281', '35.6768601', '-22.9110137', '-37.8142454', '-36.852095', '48.2043985', '48.1371079', '46.4761004', '41.4899827', '56.4267895', '52.3730796', '47.4463585', '38.1112268', '43.6044622', '47.5581077', '4.711011', '33.5945144', '45.7578137', '35.1460249', '51.9244424', '38.8950368', '39.7683331', '34.0536909', '37.3361663', '59.3251172', '33.4942189', '46.7323875', '45.4323587', '51.6889387', '40.85149705', '25.2856329', '38.70957065', '43.9363996', '55.6867243', '43.2961743', '26.4614625', '51.4825041', '9.8694792', '39.613432', '51.2254018', '50.8214626', '28.5421109', '41.3123363', '52.9534193', '44.4361414', '13.0836939', '45.4641943', '54.4430399', '-33.0244535', '-12.4391251', '29.7589382', '16.8680495', '52.16377025', '13.7524938', '49.1196964', '39.4697065', '39.9057136', '33.9597677', '41.3082138', '10.7763897', '45.8130967', '46.6359543', '19.054999', '36.1672559', '52.2337172', '-27.4689682', '-26.205', '45.773279', '3.1516964', '50.7664372', '43.7009358', '43.6112422', '36.0998131', '-23.5506507', '22.5445741', '-0.2201641', '41.006381', '46.2017559', '46.843063', '31.6258257', '43.5139571', '30.6598628', '51.2211097', '47.4978789', '36.8865728', '18.5213738', '37.8845813', '22.07045535', '43.7218277', '42.5411733', '27.7700475', '51.1282205', '1.2899175', '36.508976', '39.2171994', '44.8013678', '32.7174202', '32.7762719', '37.5666791', '32.0852997', '51.1282205', '43.7697955', '43.5449422', '40.8358846', '44.7720845', '30.2489634', '43.2363924']\n",
            "📍 Longitudes: ['9.1800132', '2.3200410217200766', '-80.19362', '-116.338303', '7.4565697', '10.000654', '12.4829321', '-79.3839347', '-84.5124602', '121.4691024', '-84.3902644', '-58.4440583', '55.18853865430702', '16.3725042', '-99.1331785', '-0.1277653', '-3.7035825', '2.1774322', '-74.0060152', '139.7638947', '-43.2093727', '144.9631732', '174.7631803', '15.6229118', '11.5753822', '7.2873587', '-71.3137707', '12.8607151', '4.8924534', '12.3911473', '13.3524434', '1.4442469', '7.5878261', '-74.0720917', '-7.6200284', '4.8320114', '-90.0517638', '4.47775', '-77.0365427', '-86.1583502', '-118.242766', '-121.890591', '18.0710935', '-111.926018', '-117.000165', '13.5224098', '5.303116', '-73.09942966988302', '51.5264162', '-9.390136815849147', '12.4466991', '12.5700724', '5.3699525', '-80.0728201', '11.9705452', '-83.7980749', '2.8829184529439633', '6.7763137', '-0.1400561', '-81.3790304', '69.2787079', '-1.1496461', '26.1027202', '80.270186', '9.1896346', '18.561309520130756', '-71.5517636', '-37.9233062', '-95.3676974', '-99.8940182', '5.408884537568014', '100.4935089', '6.1763552', '-0.3763353', '116.3912972', '-83.376398', '-72.9250518', '106.7011391', '15.9772795', '14.1448209', '72.8692035', '-115.148516', '21.071432235636493', '153.0234991', '28.049722', '-111.184535', '101.6942371', '0.2781546', '7.2683912', '3.8767337', '-80.2440518', '-46.6333824', '114.0545429', '-78.5123274', '28.9758715', '6.1466014', '28.3807399', '-7.9891608', '-6.1001155', '104.0633717', '4.3997081', '19.0402383', '30.7030242', '73.8545071', '-4.7760138', '113.7209194273619', '0.9774958', '-78.5080766', '-82.6359078', '71.4306682', '103.8519072', '-4.88562', '9.113311', '10.3280833', '-117.162772', '-96.7968559', '126.9782914', '34.7818064', '71.4306682', '11.2556404', '-5.66275', '14.2487679', '17.1917651', '120.2052342', '76.9457275']\n",
            "📍 Cities: ['Stuttgart', 'Paris', 'Miami', 'Indian Wells', 'Roquebrune-Cap-Martin', 'Hamburg', 'Rome', 'Toronto', 'Cincinnati', 'Shanghai', 'Atlanta', 'Buenos Aires', 'Dubai', 'Vienna', 'Mexico City', 'London', 'Madrid', 'Barcelona', 'New York', 'Tokyo', 'Rio de Janeiro', 'Melbourne', 'Auckland', 'St. Poelten', 'Munich', 'Gstaad', 'Newport', 'Bastad', 'Amsterdam', 'Kitzbuhel', 'Palermo', 'Toulouse', 'Basel', 'Bogota', 'Casablanca', 'Lyon', 'Memphis', 'Rotterdam', 'Washington', 'Indianapolis', 'Los Angeles', 'San Jose', 'Stockholm', 'Scottsdale', 'Moscow', 'Umag', 's Hertogenbosch', 'Long Island', 'Doha', 'Estoril', 'San Marino', 'Copenhagen', 'Marseille', 'Delray Beach', 'Halle', 'Santiago', 'Mallorca', 'Dusseldorf', 'Brighton', 'Orlando', 'Tashkent', 'Nottingham', 'Bucharest', 'Chennai', 'Milan', 'Sopot', 'Vina del Mar', 'Costa Do Sauipe', 'Houston', 'Acapulco', 'Amersfoort', 'Bangkok', 'Metz', 'Valencia', 'Beijing', 'Athens', 'New Haven', 'Ho Chi Minh City', 'Zagreb', 'Poertschach', 'Mumbai', 'Las Vegas', 'Warsaw', 'Brisbane', 'Johannesburg', 'Belgrade', 'Kuala Lumpur', 'Eastbourne', 'Nice', 'Montpellier', 'Winston-Salem', 'Sao Paulo', 'Shenzhen', 'Quito', 'Istanbul', 'Geneva', 'Sofia', 'Marrakech', 'Los Cabos', 'Chengdu', 'Antwerp', 'Budapest', 'Antalya', 'Pune', 'Cordoba', 'Zhuhai', 'Cologne', 'Sardinia', 'St. Petersburg', 'Nur-Sultan', 'Singapore', 'Marbella', 'Cagliari', 'Parma', 'San Diego', 'Dallas', 'Seoul', 'Tel Aviv', 'Astana', 'Florence', 'Gijon', 'Naples', 'Banja Luka', 'Hangzhou', 'Almaty']\n",
            "❌ Erreur lors de la requête : 429 Client Error: Too Many Requests for url: https://archive-api.open-meteo.com/v1/archive?latitude=48.7784485%2C48.8588897%2C25.7741728%2C33.7217965%2C43.7641047%2C53.550341%2C41.8933203%2C43.6534817%2C39.1014537%2C31.2323437%2C33.7489924%2C-34.6083696%2C25.074282349999997%2C48.2083537%2C19.4326296%2C51.5074456%2C40.4167047%2C41.3828939%2C40.7127281%2C35.6768601%2C-22.9110137%2C-37.8142454%2C-36.852095%2C48.2043985%2C48.1371079%2C46.4761004%2C41.4899827%2C56.4267895%2C52.3730796%2C47.4463585%2C38.1112268%2C43.6044622%2C47.5581077%2C4.711011%2C33.5945144%2C45.7578137%2C35.1460249%2C51.9244424%2C38.8950368%2C39.7683331%2C34.0536909%2C37.3361663%2C59.3251172%2C33.4942189%2C46.7323875%2C45.4323587%2C51.6889387%2C40.85149705%2C25.2856329%2C38.70957065%2C43.9363996%2C55.6867243%2C43.2961743%2C26.4614625%2C51.4825041%2C9.8694792%2C39.613432%2C51.2254018%2C50.8214626%2C28.5421109%2C41.3123363%2C52.9534193%2C44.4361414%2C13.0836939%2C45.4641943%2C54.4430399%2C-33.0244535%2C-12.4391251%2C29.7589382%2C16.8680495%2C52.16377025%2C13.7524938%2C49.1196964%2C39.4697065%2C39.9057136%2C33.9597677%2C41.3082138%2C10.7763897%2C45.8130967%2C46.6359543%2C19.054999%2C36.1672559%2C52.2337172%2C-27.4689682%2C-26.205%2C45.773279%2C3.1516964%2C50.7664372%2C43.7009358%2C43.6112422%2C36.0998131%2C-23.5506507%2C22.5445741%2C-0.2201641%2C41.006381%2C46.2017559%2C46.843063%2C31.6258257%2C43.5139571%2C30.6598628%2C51.2211097%2C47.4978789%2C36.8865728%2C18.5213738%2C37.8845813%2C22.07045535%2C43.7218277%2C42.5411733%2C27.7700475%2C51.1282205%2C1.2899175%2C36.508976%2C39.2171994%2C44.8013678%2C32.7174202%2C32.7762719%2C37.5666791%2C32.0852997%2C51.1282205%2C43.7697955%2C43.5449422%2C40.8358846%2C44.7720845%2C30.2489634%2C43.2363924&longitude=9.1800132%2C2.3200410217200766%2C-80.19362%2C-116.338303%2C7.4565697%2C10.000654%2C12.4829321%2C-79.3839347%2C-84.5124602%2C121.4691024%2C-84.3902644%2C-58.4440583%2C55.18853865430702%2C16.3725042%2C-99.1331785%2C-0.1277653%2C-3.7035825%2C2.1774322%2C-74.0060152%2C139.7638947%2C-43.2093727%2C144.9631732%2C174.7631803%2C15.6229118%2C11.5753822%2C7.2873587%2C-71.3137707%2C12.8607151%2C4.8924534%2C12.3911473%2C13.3524434%2C1.4442469%2C7.5878261%2C-74.0720917%2C-7.6200284%2C4.8320114%2C-90.0517638%2C4.47775%2C-77.0365427%2C-86.1583502%2C-118.242766%2C-121.890591%2C18.0710935%2C-111.926018%2C-117.000165%2C13.5224098%2C5.303116%2C-73.09942966988302%2C51.5264162%2C-9.390136815849147%2C12.4466991%2C12.5700724%2C5.3699525%2C-80.0728201%2C11.9705452%2C-83.7980749%2C2.8829184529439633%2C6.7763137%2C-0.1400561%2C-81.3790304%2C69.2787079%2C-1.1496461%2C26.1027202%2C80.270186%2C9.1896346%2C18.561309520130756%2C-71.5517636%2C-37.9233062%2C-95.3676974%2C-99.8940182%2C5.408884537568014%2C100.4935089%2C6.1763552%2C-0.3763353%2C116.3912972%2C-83.376398%2C-72.9250518%2C106.7011391%2C15.9772795%2C14.1448209%2C72.8692035%2C-115.148516%2C21.071432235636493%2C153.0234991%2C28.049722%2C-111.184535%2C101.6942371%2C0.2781546%2C7.2683912%2C3.8767337%2C-80.2440518%2C-46.6333824%2C114.0545429%2C-78.5123274%2C28.9758715%2C6.1466014%2C28.3807399%2C-7.9891608%2C-6.1001155%2C104.0633717%2C4.3997081%2C19.0402383%2C30.7030242%2C73.8545071%2C-4.7760138%2C113.7209194273619%2C0.9774958%2C-78.5080766%2C-82.6359078%2C71.4306682%2C103.8519072%2C-4.88562%2C9.113311%2C10.3280833%2C-117.162772%2C-96.7968559%2C126.9782914%2C34.7818064%2C71.4306682%2C11.2556404%2C-5.66275%2C14.2487679%2C17.1917651%2C120.2052342%2C76.9457275&start_date=2000-01-01&end_date=2024-01-31&daily=temperature_2m_max%2Cwind_speed_10m_max&timezone=auto\n",
            "Empty DataFrame\n",
            "Columns: [City, Date, Temperature, Wind_speed]\n",
            "Index: []\n"
          ]
        }
      ]
    },
    {
      "cell_type": "code",
      "source": [
        "!pip install openmeteo-requests\n",
        "!pip install requests-cache retry-requests numpy pandas"
      ],
      "metadata": {
        "colab": {
          "base_uri": "https://localhost:8080/"
        },
        "collapsed": true,
        "id": "xyj1pRTImoFE",
        "outputId": "95d948fa-c379-4415-fce4-420ceb77ead3"
      },
      "execution_count": 13,
      "outputs": [
        {
          "output_type": "stream",
          "name": "stdout",
          "text": [
            "Collecting openmeteo-requests\n",
            "  Downloading openmeteo_requests-1.3.0-py3-none-any.whl.metadata (9.7 kB)\n",
            "Collecting openmeteo-sdk>=1.4.0 (from openmeteo-requests)\n",
            "  Downloading openmeteo_sdk-1.19.0-py3-none-any.whl.metadata (935 bytes)\n",
            "Requirement already satisfied: requests in /usr/local/lib/python3.11/dist-packages (from openmeteo-requests) (2.32.3)\n",
            "Requirement already satisfied: flatbuffers==25.2.10 in /usr/local/lib/python3.11/dist-packages (from openmeteo-sdk>=1.4.0->openmeteo-requests) (25.2.10)\n",
            "Requirement already satisfied: charset-normalizer<4,>=2 in /usr/local/lib/python3.11/dist-packages (from requests->openmeteo-requests) (3.4.1)\n",
            "Requirement already satisfied: idna<4,>=2.5 in /usr/local/lib/python3.11/dist-packages (from requests->openmeteo-requests) (3.10)\n",
            "Requirement already satisfied: urllib3<3,>=1.21.1 in /usr/local/lib/python3.11/dist-packages (from requests->openmeteo-requests) (2.3.0)\n",
            "Requirement already satisfied: certifi>=2017.4.17 in /usr/local/lib/python3.11/dist-packages (from requests->openmeteo-requests) (2025.1.31)\n",
            "Downloading openmeteo_requests-1.3.0-py3-none-any.whl (6.0 kB)\n",
            "Downloading openmeteo_sdk-1.19.0-py3-none-any.whl (15 kB)\n",
            "Installing collected packages: openmeteo-sdk, openmeteo-requests\n",
            "Successfully installed openmeteo-requests-1.3.0 openmeteo-sdk-1.19.0\n",
            "Collecting requests-cache\n",
            "  Downloading requests_cache-1.2.1-py3-none-any.whl.metadata (9.9 kB)\n",
            "Collecting retry-requests\n",
            "  Downloading retry_requests-2.0.0-py3-none-any.whl.metadata (2.6 kB)\n",
            "Requirement already satisfied: numpy in /usr/local/lib/python3.11/dist-packages (1.26.4)\n",
            "Requirement already satisfied: pandas in /usr/local/lib/python3.11/dist-packages (2.2.2)\n",
            "Requirement already satisfied: attrs>=21.2 in /usr/local/lib/python3.11/dist-packages (from requests-cache) (25.1.0)\n",
            "Collecting cattrs>=22.2 (from requests-cache)\n",
            "  Downloading cattrs-24.1.2-py3-none-any.whl.metadata (8.4 kB)\n",
            "Requirement already satisfied: platformdirs>=2.5 in /usr/local/lib/python3.11/dist-packages (from requests-cache) (4.3.6)\n",
            "Requirement already satisfied: requests>=2.22 in /usr/local/lib/python3.11/dist-packages (from requests-cache) (2.32.3)\n",
            "Collecting url-normalize>=1.4 (from requests-cache)\n",
            "  Downloading url_normalize-1.4.3-py2.py3-none-any.whl.metadata (3.1 kB)\n",
            "Requirement already satisfied: urllib3>=1.25.5 in /usr/local/lib/python3.11/dist-packages (from requests-cache) (2.3.0)\n",
            "Requirement already satisfied: python-dateutil>=2.8.2 in /usr/local/lib/python3.11/dist-packages (from pandas) (2.8.2)\n",
            "Requirement already satisfied: pytz>=2020.1 in /usr/local/lib/python3.11/dist-packages (from pandas) (2025.1)\n",
            "Requirement already satisfied: tzdata>=2022.7 in /usr/local/lib/python3.11/dist-packages (from pandas) (2025.1)\n",
            "Requirement already satisfied: six>=1.5 in /usr/local/lib/python3.11/dist-packages (from python-dateutil>=2.8.2->pandas) (1.17.0)\n",
            "Requirement already satisfied: charset-normalizer<4,>=2 in /usr/local/lib/python3.11/dist-packages (from requests>=2.22->requests-cache) (3.4.1)\n",
            "Requirement already satisfied: idna<4,>=2.5 in /usr/local/lib/python3.11/dist-packages (from requests>=2.22->requests-cache) (3.10)\n",
            "Requirement already satisfied: certifi>=2017.4.17 in /usr/local/lib/python3.11/dist-packages (from requests>=2.22->requests-cache) (2025.1.31)\n",
            "Downloading requests_cache-1.2.1-py3-none-any.whl (61 kB)\n",
            "\u001b[2K   \u001b[90m━━━━━━━━━━━━━━━━━━━━━━━━━━━━━━━━━━━━━━━━\u001b[0m \u001b[32m61.4/61.4 kB\u001b[0m \u001b[31m2.6 MB/s\u001b[0m eta \u001b[36m0:00:00\u001b[0m\n",
            "\u001b[?25hDownloading retry_requests-2.0.0-py3-none-any.whl (15 kB)\n",
            "Downloading cattrs-24.1.2-py3-none-any.whl (66 kB)\n",
            "\u001b[2K   \u001b[90m━━━━━━━━━━━━━━━━━━━━━━━━━━━━━━━━━━━━━━━━\u001b[0m \u001b[32m66.4/66.4 kB\u001b[0m \u001b[31m5.6 MB/s\u001b[0m eta \u001b[36m0:00:00\u001b[0m\n",
            "\u001b[?25hDownloading url_normalize-1.4.3-py2.py3-none-any.whl (6.8 kB)\n",
            "Installing collected packages: url-normalize, cattrs, retry-requests, requests-cache\n",
            "Successfully installed cattrs-24.1.2 requests-cache-1.2.1 retry-requests-2.0.0 url-normalize-1.4.3\n"
          ]
        }
      ]
    },
    {
      "cell_type": "code",
      "source": [
        "\n",
        "\"\"\"Récupère les températures et l'humidité journalières pour toutes les villes en un seul appel API.\"\"\"\n",
        "latitudes = []\n",
        "longitudes = []\n",
        "city_names = []\n",
        "print(\"📍 Locations avec coordonnées:\", locations)\n",
        "\n",
        "for city, coords in locations.items():\n",
        "    if coords is not None:  # Vérifier que les coordonnées existent\n",
        "        latitudes.append(str(coords[0]))\n",
        "        longitudes.append(str(coords[1]))\n",
        "        city_names.append(city)\n",
        "\n",
        "print(\"📍 Latitudes:\", latitudes)\n",
        "print(\"📍 Longitudes:\", longitudes)\n",
        "print(\"📍 Cities:\", city_names)\n"
      ],
      "metadata": {
        "colab": {
          "base_uri": "https://localhost:8080/"
        },
        "id": "CQtRWV3iuGel",
        "outputId": "89c65bc2-a82c-4ff7-c321-680acf6ea71e"
      },
      "execution_count": 28,
      "outputs": [
        {
          "output_type": "stream",
          "name": "stdout",
          "text": [
            "📍 Locations avec coordonnées: {'Stuttgart': (48.7784485, 9.1800132), 'Paris': (48.8588897, 2.3200410217200766), 'Miami': (25.7741728, -80.19362), 'Indian Wells': (33.7217965, -116.338303), 'Roquebrune-Cap-Martin': (43.7641047, 7.4565697), 'Hamburg': (53.550341, 10.000654), 'Rome': (41.8933203, 12.4829321), 'Toronto': (43.6534817, -79.3839347), 'Cincinnati': (39.1014537, -84.5124602), 'Shanghai': (31.2323437, 121.4691024), 'Atlanta': (33.7489924, -84.3902644), 'Buenos Aires': (-34.6083696, -58.4440583), 'Dubai': (25.074282349999997, 55.18853865430702), 'Vienna': (48.2083537, 16.3725042), 'Mexico City': (19.4326296, -99.1331785), 'London': (51.5074456, -0.1277653), 'Madrid': (40.4167047, -3.7035825), 'Barcelona': (41.3828939, 2.1774322), 'New York': (40.7127281, -74.0060152), 'Tokyo': (35.6768601, 139.7638947), 'Rio de Janeiro': (-22.9110137, -43.2093727), 'Melbourne': (-37.8142454, 144.9631732), 'Auckland': (-36.852095, 174.7631803), 'St. Poelten': (48.2043985, 15.6229118), 'Munich': (48.1371079, 11.5753822), 'Gstaad': (46.4761004, 7.2873587), 'Newport': (41.4899827, -71.3137707), 'Bastad': (56.4267895, 12.8607151), 'Amsterdam': (52.3730796, 4.8924534), 'Kitzbuhel': (47.4463585, 12.3911473), 'Palermo': (38.1112268, 13.3524434), 'Toulouse': (43.6044622, 1.4442469), 'Basel': (47.5581077, 7.5878261), 'Bogota': (4.711011, -74.0720917), 'Casablanca': (33.5945144, -7.6200284), 'Lyon': (45.7578137, 4.8320114), 'Memphis': (35.1460249, -90.0517638), 'Rotterdam': (51.9244424, 4.47775), 'Washington': (38.8950368, -77.0365427), 'Indianapolis': (39.7683331, -86.1583502), 'Los Angeles': (34.0536909, -118.242766), 'San Jose': (37.3361663, -121.890591), 'Stockholm': (59.3251172, 18.0710935), 'Scottsdale': (33.4942189, -111.926018), 'Moscow': (46.7323875, -117.000165), 'Umag': (45.4323587, 13.5224098), 's Hertogenbosch': (51.6889387, 5.303116), 'Long Island': (40.85149705, -73.09942966988302), 'Doha': (25.2856329, 51.5264162), 'Estoril': (38.70957065, -9.390136815849147), 'San Marino': (43.9363996, 12.4466991), 'Copenhagen': (55.6867243, 12.5700724), 'Marseille': (43.2961743, 5.3699525), 'Delray Beach': (26.4614625, -80.0728201), 'Halle': (51.4825041, 11.9705452), 'Santiago': (9.8694792, -83.7980749), 'Mallorca': (39.613432, 2.8829184529439633), 'Dusseldorf': (51.2254018, 6.7763137), 'Brighton': (50.8214626, -0.1400561), 'Orlando': (28.5421109, -81.3790304), 'Tashkent': (41.3123363, 69.2787079), 'Nottingham': (52.9534193, -1.1496461), 'Bucharest': (44.4361414, 26.1027202), 'Chennai': (13.0836939, 80.270186), 'Milan': (45.4641943, 9.1896346), 'Sopot': (54.4430399, 18.561309520130756), 'Vina del Mar': (-33.0244535, -71.5517636), 'Costa Do Sauipe': (-12.4391251, -37.9233062), 'Houston': (29.7589382, -95.3676974), 'Acapulco': (16.8680495, -99.8940182), 'Amersfoort': (52.16377025, 5.408884537568014), 'Bangkok': (13.7524938, 100.4935089), 'Metz': (49.1196964, 6.1763552), 'Valencia': (39.4697065, -0.3763353), 'Beijing': (39.9057136, 116.3912972), 'Athens': (33.9597677, -83.376398), 'New Haven': (41.3082138, -72.9250518), 'Ho Chi Minh City': (10.7763897, 106.7011391), 'Zagreb': (45.8130967, 15.9772795), 'Poertschach': (46.6359543, 14.1448209), 'Mumbai': (19.054999, 72.8692035), 'Las Vegas': (36.1672559, -115.148516), 'Warsaw': (52.2337172, 21.071432235636493), 'Brisbane': (-27.4689682, 153.0234991), 'Johannesburg': (-26.205, 28.049722), 'Belgrade': (45.773279, -111.184535), 'Kuala Lumpur': (3.1516964, 101.6942371), 'Eastbourne': (50.7664372, 0.2781546), 'Nice': (43.7009358, 7.2683912), 'Montpellier': (43.6112422, 3.8767337), 'Winston-Salem': (36.0998131, -80.2440518), 'Sao Paulo': (-23.5506507, -46.6333824), 'Shenzhen': (22.5445741, 114.0545429), 'Quito': (-0.2201641, -78.5123274), 'Istanbul': (41.006381, 28.9758715), 'Geneva': (46.2017559, 6.1466014), 'Sofia': (46.843063, 28.3807399), 'Marrakech': (31.6258257, -7.9891608), 'Los Cabos': (43.5139571, -6.1001155), 'Chengdu': (30.6598628, 104.0633717), 'Antwerp': (51.2211097, 4.3997081), 'Budapest': (47.4978789, 19.0402383), 'Antalya': (36.8865728, 30.7030242), 'Pune': (18.5213738, 73.8545071), 'Cordoba': (37.8845813, -4.7760138), 'Zhuhai': (22.07045535, 113.7209194273619), 'Cologne': (43.7218277, 0.9774958), 'Sardinia': (42.5411733, -78.5080766), 'St. Petersburg': (27.7700475, -82.6359078), 'Nur-Sultan': (51.1282205, 71.4306682), 'Singapore': (1.2899175, 103.8519072), 'Marbella': (36.508976, -4.88562), 'Cagliari': (39.2171994, 9.113311), 'Parma': (44.8013678, 10.3280833), 'San Diego': (32.7174202, -117.162772), 'Dallas': (32.7762719, -96.7968559), 'Seoul': (37.5666791, 126.9782914), 'Tel Aviv': (32.0852997, 34.7818064), 'Astana': (51.1282205, 71.4306682), 'Florence': (43.7697955, 11.2556404), 'Gijon': (43.5449422, -5.66275), 'Naples': (40.8358846, 14.2487679), 'Banja Luka': (44.7720845, 17.1917651), 'Hangzhou': (30.2489634, 120.2052342), 'Almaty': (43.2363924, 76.9457275)}\n",
            "📍 Latitudes: ['48.7784485', '48.8588897', '25.7741728', '33.7217965', '43.7641047', '53.550341', '41.8933203', '43.6534817', '39.1014537', '31.2323437', '33.7489924', '-34.6083696', '25.074282349999997', '48.2083537', '19.4326296', '51.5074456', '40.4167047', '41.3828939', '40.7127281', '35.6768601', '-22.9110137', '-37.8142454', '-36.852095', '48.2043985', '48.1371079', '46.4761004', '41.4899827', '56.4267895', '52.3730796', '47.4463585', '38.1112268', '43.6044622', '47.5581077', '4.711011', '33.5945144', '45.7578137', '35.1460249', '51.9244424', '38.8950368', '39.7683331', '34.0536909', '37.3361663', '59.3251172', '33.4942189', '46.7323875', '45.4323587', '51.6889387', '40.85149705', '25.2856329', '38.70957065', '43.9363996', '55.6867243', '43.2961743', '26.4614625', '51.4825041', '9.8694792', '39.613432', '51.2254018', '50.8214626', '28.5421109', '41.3123363', '52.9534193', '44.4361414', '13.0836939', '45.4641943', '54.4430399', '-33.0244535', '-12.4391251', '29.7589382', '16.8680495', '52.16377025', '13.7524938', '49.1196964', '39.4697065', '39.9057136', '33.9597677', '41.3082138', '10.7763897', '45.8130967', '46.6359543', '19.054999', '36.1672559', '52.2337172', '-27.4689682', '-26.205', '45.773279', '3.1516964', '50.7664372', '43.7009358', '43.6112422', '36.0998131', '-23.5506507', '22.5445741', '-0.2201641', '41.006381', '46.2017559', '46.843063', '31.6258257', '43.5139571', '30.6598628', '51.2211097', '47.4978789', '36.8865728', '18.5213738', '37.8845813', '22.07045535', '43.7218277', '42.5411733', '27.7700475', '51.1282205', '1.2899175', '36.508976', '39.2171994', '44.8013678', '32.7174202', '32.7762719', '37.5666791', '32.0852997', '51.1282205', '43.7697955', '43.5449422', '40.8358846', '44.7720845', '30.2489634', '43.2363924']\n",
            "📍 Longitudes: ['9.1800132', '2.3200410217200766', '-80.19362', '-116.338303', '7.4565697', '10.000654', '12.4829321', '-79.3839347', '-84.5124602', '121.4691024', '-84.3902644', '-58.4440583', '55.18853865430702', '16.3725042', '-99.1331785', '-0.1277653', '-3.7035825', '2.1774322', '-74.0060152', '139.7638947', '-43.2093727', '144.9631732', '174.7631803', '15.6229118', '11.5753822', '7.2873587', '-71.3137707', '12.8607151', '4.8924534', '12.3911473', '13.3524434', '1.4442469', '7.5878261', '-74.0720917', '-7.6200284', '4.8320114', '-90.0517638', '4.47775', '-77.0365427', '-86.1583502', '-118.242766', '-121.890591', '18.0710935', '-111.926018', '-117.000165', '13.5224098', '5.303116', '-73.09942966988302', '51.5264162', '-9.390136815849147', '12.4466991', '12.5700724', '5.3699525', '-80.0728201', '11.9705452', '-83.7980749', '2.8829184529439633', '6.7763137', '-0.1400561', '-81.3790304', '69.2787079', '-1.1496461', '26.1027202', '80.270186', '9.1896346', '18.561309520130756', '-71.5517636', '-37.9233062', '-95.3676974', '-99.8940182', '5.408884537568014', '100.4935089', '6.1763552', '-0.3763353', '116.3912972', '-83.376398', '-72.9250518', '106.7011391', '15.9772795', '14.1448209', '72.8692035', '-115.148516', '21.071432235636493', '153.0234991', '28.049722', '-111.184535', '101.6942371', '0.2781546', '7.2683912', '3.8767337', '-80.2440518', '-46.6333824', '114.0545429', '-78.5123274', '28.9758715', '6.1466014', '28.3807399', '-7.9891608', '-6.1001155', '104.0633717', '4.3997081', '19.0402383', '30.7030242', '73.8545071', '-4.7760138', '113.7209194273619', '0.9774958', '-78.5080766', '-82.6359078', '71.4306682', '103.8519072', '-4.88562', '9.113311', '10.3280833', '-117.162772', '-96.7968559', '126.9782914', '34.7818064', '71.4306682', '11.2556404', '-5.66275', '14.2487679', '17.1917651', '120.2052342', '76.9457275']\n",
            "📍 Cities: ['Stuttgart', 'Paris', 'Miami', 'Indian Wells', 'Roquebrune-Cap-Martin', 'Hamburg', 'Rome', 'Toronto', 'Cincinnati', 'Shanghai', 'Atlanta', 'Buenos Aires', 'Dubai', 'Vienna', 'Mexico City', 'London', 'Madrid', 'Barcelona', 'New York', 'Tokyo', 'Rio de Janeiro', 'Melbourne', 'Auckland', 'St. Poelten', 'Munich', 'Gstaad', 'Newport', 'Bastad', 'Amsterdam', 'Kitzbuhel', 'Palermo', 'Toulouse', 'Basel', 'Bogota', 'Casablanca', 'Lyon', 'Memphis', 'Rotterdam', 'Washington', 'Indianapolis', 'Los Angeles', 'San Jose', 'Stockholm', 'Scottsdale', 'Moscow', 'Umag', 's Hertogenbosch', 'Long Island', 'Doha', 'Estoril', 'San Marino', 'Copenhagen', 'Marseille', 'Delray Beach', 'Halle', 'Santiago', 'Mallorca', 'Dusseldorf', 'Brighton', 'Orlando', 'Tashkent', 'Nottingham', 'Bucharest', 'Chennai', 'Milan', 'Sopot', 'Vina del Mar', 'Costa Do Sauipe', 'Houston', 'Acapulco', 'Amersfoort', 'Bangkok', 'Metz', 'Valencia', 'Beijing', 'Athens', 'New Haven', 'Ho Chi Minh City', 'Zagreb', 'Poertschach', 'Mumbai', 'Las Vegas', 'Warsaw', 'Brisbane', 'Johannesburg', 'Belgrade', 'Kuala Lumpur', 'Eastbourne', 'Nice', 'Montpellier', 'Winston-Salem', 'Sao Paulo', 'Shenzhen', 'Quito', 'Istanbul', 'Geneva', 'Sofia', 'Marrakech', 'Los Cabos', 'Chengdu', 'Antwerp', 'Budapest', 'Antalya', 'Pune', 'Cordoba', 'Zhuhai', 'Cologne', 'Sardinia', 'St. Petersburg', 'Nur-Sultan', 'Singapore', 'Marbella', 'Cagliari', 'Parma', 'San Diego', 'Dallas', 'Seoul', 'Tel Aviv', 'Astana', 'Florence', 'Gijon', 'Naples', 'Banja Luka', 'Hangzhou', 'Almaty']\n"
          ]
        }
      ]
    },
    {
      "cell_type": "code",
      "source": [
        "import openmeteo_requests\n",
        "\n",
        "import requests_cache\n",
        "import pandas as pd\n",
        "from retry_requests import retry\n",
        "\n",
        "# Setup the Open-Meteo API client with cache and retry on error\n",
        "cache_session = requests_cache.CachedSession('.cache', expire_after = -1)\n",
        "retry_session = retry(cache_session, retries = 5, backoff_factor = 0.2)\n",
        "openmeteo = openmeteo_requests.Client(session = retry_session)\n",
        "\n",
        "# Make sure all required weather variables are listed here\n",
        "# The order of variables in hourly or daily is important to assign them correctly below\n",
        "url = \"https://archive-api.open-meteo.com/v1/archive\"\n",
        "params = {\n",
        "\t\"latitude\": \",\".join(latitudes),\n",
        "  \"longitude\": \",\".join(longitudes),\n",
        "  \"start_date\": START_DATE,\n",
        "  \"end_date\": END_DATE,\n",
        "  \"daily\": \"temperature_2m_max,wind_speed_10m_max\",\n",
        "  \"timezone\": \"auto\"\n",
        "}\n",
        "responses = openmeteo.weather_api(url, params=params)\n",
        "print(responses)"
      ],
      "metadata": {
        "colab": {
          "base_uri": "https://localhost:8080/",
          "height": 339
        },
        "id": "HCBbaRlDpdf8",
        "outputId": "fa5e60b9-b7f0-4e01-fa48-8e6d9376af1e"
      },
      "execution_count": 29,
      "outputs": [
        {
          "output_type": "error",
          "ename": "OpenMeteoRequestsError",
          "evalue": "{'error': True, 'reason': 'Daily API request limit exceeded. Please try again tomorrow.'}",
          "traceback": [
            "\u001b[0;31m---------------------------------------------------------------------------\u001b[0m",
            "\u001b[0;31mOpenMeteoRequestsError\u001b[0m                    Traceback (most recent call last)",
            "\u001b[0;32m<ipython-input-29-e16d41597d0b>\u001b[0m in \u001b[0;36m<cell line: 0>\u001b[0;34m()\u001b[0m\n\u001b[1;32m     21\u001b[0m   \u001b[0;34m\"timezone\"\u001b[0m\u001b[0;34m:\u001b[0m \u001b[0;34m\"auto\"\u001b[0m\u001b[0;34m\u001b[0m\u001b[0;34m\u001b[0m\u001b[0m\n\u001b[1;32m     22\u001b[0m }\n\u001b[0;32m---> 23\u001b[0;31m \u001b[0mresponses\u001b[0m \u001b[0;34m=\u001b[0m \u001b[0mopenmeteo\u001b[0m\u001b[0;34m.\u001b[0m\u001b[0mweather_api\u001b[0m\u001b[0;34m(\u001b[0m\u001b[0murl\u001b[0m\u001b[0;34m,\u001b[0m \u001b[0mparams\u001b[0m\u001b[0;34m=\u001b[0m\u001b[0mparams\u001b[0m\u001b[0;34m)\u001b[0m\u001b[0;34m\u001b[0m\u001b[0;34m\u001b[0m\u001b[0m\n\u001b[0m\u001b[1;32m     24\u001b[0m \u001b[0mprint\u001b[0m\u001b[0;34m(\u001b[0m\u001b[0mresponses\u001b[0m\u001b[0;34m)\u001b[0m\u001b[0;34m\u001b[0m\u001b[0;34m\u001b[0m\u001b[0m\n",
            "\u001b[0;32m/usr/local/lib/python3.11/dist-packages/openmeteo_requests/Client.py\u001b[0m in \u001b[0;36mweather_api\u001b[0;34m(self, url, params, method, verify)\u001b[0m\n\u001b[1;32m     52\u001b[0m     ) -> list[WeatherApiResponse]:\n\u001b[1;32m     53\u001b[0m         \u001b[0;34m\"\"\"Get and decode as weather api\"\"\"\u001b[0m\u001b[0;34m\u001b[0m\u001b[0;34m\u001b[0m\u001b[0m\n\u001b[0;32m---> 54\u001b[0;31m         \u001b[0;32mreturn\u001b[0m \u001b[0mself\u001b[0m\u001b[0;34m.\u001b[0m\u001b[0m_get\u001b[0m\u001b[0;34m(\u001b[0m\u001b[0mWeatherApiResponse\u001b[0m\u001b[0;34m,\u001b[0m \u001b[0murl\u001b[0m\u001b[0;34m,\u001b[0m \u001b[0mparams\u001b[0m\u001b[0;34m,\u001b[0m \u001b[0mmethod\u001b[0m\u001b[0;34m,\u001b[0m \u001b[0mverify\u001b[0m\u001b[0;34m)\u001b[0m\u001b[0;34m\u001b[0m\u001b[0;34m\u001b[0m\u001b[0m\n\u001b[0m\u001b[1;32m     55\u001b[0m \u001b[0;34m\u001b[0m\u001b[0m\n\u001b[1;32m     56\u001b[0m     \u001b[0;32mdef\u001b[0m \u001b[0m__del__\u001b[0m\u001b[0;34m(\u001b[0m\u001b[0mself\u001b[0m\u001b[0;34m)\u001b[0m\u001b[0;34m:\u001b[0m\u001b[0;34m\u001b[0m\u001b[0;34m\u001b[0m\u001b[0m\n",
            "\u001b[0;32m/usr/local/lib/python3.11/dist-packages/openmeteo_requests/Client.py\u001b[0m in \u001b[0;36m_get\u001b[0;34m(self, cls, url, params, method, verify)\u001b[0m\n\u001b[1;32m     33\u001b[0m         \u001b[0;32mif\u001b[0m \u001b[0mresponse\u001b[0m\u001b[0;34m.\u001b[0m\u001b[0mstatus_code\u001b[0m \u001b[0;32min\u001b[0m \u001b[0;34m[\u001b[0m\u001b[0;36m400\u001b[0m\u001b[0;34m,\u001b[0m \u001b[0;36m429\u001b[0m\u001b[0;34m]\u001b[0m\u001b[0;34m:\u001b[0m\u001b[0;34m\u001b[0m\u001b[0;34m\u001b[0m\u001b[0m\n\u001b[1;32m     34\u001b[0m             \u001b[0mresponse_body\u001b[0m \u001b[0;34m=\u001b[0m \u001b[0mresponse\u001b[0m\u001b[0;34m.\u001b[0m\u001b[0mjson\u001b[0m\u001b[0;34m(\u001b[0m\u001b[0;34m)\u001b[0m\u001b[0;34m\u001b[0m\u001b[0;34m\u001b[0m\u001b[0m\n\u001b[0;32m---> 35\u001b[0;31m             \u001b[0;32mraise\u001b[0m \u001b[0mOpenMeteoRequestsError\u001b[0m\u001b[0;34m(\u001b[0m\u001b[0mresponse_body\u001b[0m\u001b[0;34m)\u001b[0m\u001b[0;34m\u001b[0m\u001b[0;34m\u001b[0m\u001b[0m\n\u001b[0m\u001b[1;32m     36\u001b[0m \u001b[0;34m\u001b[0m\u001b[0m\n\u001b[1;32m     37\u001b[0m         \u001b[0mresponse\u001b[0m\u001b[0;34m.\u001b[0m\u001b[0mraise_for_status\u001b[0m\u001b[0;34m(\u001b[0m\u001b[0;34m)\u001b[0m\u001b[0;34m\u001b[0m\u001b[0;34m\u001b[0m\u001b[0m\n",
            "\u001b[0;31mOpenMeteoRequestsError\u001b[0m: {'error': True, 'reason': 'Daily API request limit exceeded. Please try again tomorrow.'}"
          ]
        }
      ]
    },
    {
      "cell_type": "code",
      "source": [
        "# Process first location. Add a for-loop for multiple locations or weather models\n",
        "response = responses[0]\n",
        "print(f\"Coordinates {response.Latitude()}°N {response.Longitude()}°E\")\n",
        "print(f\"Elevation {response.Elevation()} m asl\")\n",
        "print(f\"Timezone {response.Timezone()} {response.TimezoneAbbreviation()}\")\n",
        "print(f\"Timezone difference to GMT+0 {response.UtcOffsetSeconds()} s\")\n",
        "\n",
        "# Process hourly data. The order of variables needs to be the same as requested.\n",
        "hourly = response.Hourly()\n",
        "hourly_temperature_2m = hourly.Variables(0).ValuesAsNumpy()\n",
        "\n",
        "hourly_data = {\"date\": pd.date_range(\n",
        "\tstart = pd.to_datetime(hourly.Time(), unit = \"s\", utc = True),\n",
        "\tend = pd.to_datetime(hourly.TimeEnd(), unit = \"s\", utc = True),\n",
        "\tfreq = pd.Timedelta(seconds = hourly.Interval()),\n",
        "\tinclusive = \"left\"\n",
        ")}\n",
        "\n",
        "hourly_data[\"temperature_2m\"] = hourly_temperature_2m\n",
        "\n",
        "hourly_dataframe = pd.DataFrame(data = hourly_data)\n",
        "print(hourly_dataframe)"
      ],
      "metadata": {
        "id": "UVPUs3j7re2d"
      },
      "execution_count": null,
      "outputs": []
    },
    {
      "cell_type": "code",
      "source": [
        "import requests\n",
        "import pandas as pd\n",
        "from tqdm import tqdm\n",
        "\n",
        "# Définition des dates pour limiter l'appel API\n",
        "START_DATE = \"2016-01-01\"\n",
        "END_DATE = \"2024-01-31\"\n",
        "BASE_URL = \"https://api.open-meteo.com/v1/forecast\"\n",
        "\n",
        "def fetch_weather_data(location):\n",
        "    \"\"\"Récupère les températures et le vent pour toutes les villes via l'API Open-Meteo.\"\"\"\n",
        "    all_data = []\n",
        "\n",
        "    for city, coords in tqdm(location.items(), desc=\"Récupération des données météo\"):\n",
        "        if coords is None:\n",
        "            print(f\"⚠️ Coordonnées non trouvées pour {city}. Skipping...\")\n",
        "            continue\n",
        "\n",
        "        latitude, longitude = coords\n",
        "\n",
        "        params = {\n",
        "            \"latitude\": latitude,\n",
        "            \"longitude\": longitude,\n",
        "            \"start_date\": START_DATE,\n",
        "            \"end_date\": END_DATE,\n",
        "            \"daily\": \"temperature_2m_max,wind_speed_10m_max\",\n",
        "            \"timezone\": \"auto\"\n",
        "        }\n",
        "\n",
        "        try:\n",
        "            response = requests.get(BASE_URL, params=params, timeout=10)\n",
        "            response.raise_for_status()  # Vérification des erreurs HTTP\n",
        "            data = response.json()\n",
        "\n",
        "            if \"daily\" not in data:\n",
        "                print(f\"❌ Données non disponibles pour {city}\")\n",
        "                continue\n",
        "\n",
        "            # Extraction des données météo\n",
        "            daily_data = data[\"daily\"]\n",
        "            for date, temp, wind in zip(daily_data[\"time\"],\n",
        "                                        daily_data[\"temperature_2m_max\"],\n",
        "                                        daily_data[\"wind_speed_10m_max\"]):\n",
        "                all_data.append([city, date, temp, wind])\n",
        "\n",
        "        except requests.exceptions.RequestException as e:\n",
        "            print(f\"❌ Erreur lors de la requête pour {city} : {e}\")\n",
        "\n",
        "    # Création du DataFrame\n",
        "    df_weather = pd.DataFrame(all_data, columns=[\"City\", \"Date\", \"Temperature\", \"Wind_speed\"])\n",
        "    return df_weather\n",
        "\n",
        "# Exemple d'appel de la fonction avec quelques villes\n",
        "location = {\n",
        "    \"Paris\": (48.8566, 2.3522),\n",
        "    \"New York\": (40.7128, -74.0060),\n",
        "    \"Tokyo\": (35.6895, 139.6917),\n",
        "    \"Buenos Aires\": (-34.6037, -58.3816),\n",
        "    \"Sydney\": (-33.8688, 151.2093),\n",
        "}\n",
        "\n",
        "df_weather = fetch_weather_data(location)\n",
        "\n",
        "# Vérifier la sortie\n",
        "print(df_weather.head())\n",
        "print(response.json())"
      ],
      "metadata": {
        "colab": {
          "base_uri": "https://localhost:8080/"
        },
        "id": "adD6mwjWWnyH",
        "outputId": "856fff26-2430-4e22-a738-7fcc803ab2f6"
      },
      "execution_count": 15,
      "outputs": [
        {
          "output_type": "stream",
          "name": "stderr",
          "text": [
            "Récupération des données météo: 100%|██████████| 5/5 [00:05<00:00,  1.02s/it]"
          ]
        },
        {
          "output_type": "stream",
          "name": "stdout",
          "text": [
            "    City        Date Temperature Wind_speed\n",
            "0  Paris  2016-01-01        None       None\n",
            "1  Paris  2016-01-02        None       None\n",
            "2  Paris  2016-01-03        None       None\n",
            "3  Paris  2016-01-04        None       None\n",
            "4  Paris  2016-01-05        None       None\n"
          ]
        },
        {
          "output_type": "stream",
          "name": "stderr",
          "text": [
            "\n"
          ]
        }
      ]
    },
    {
      "cell_type": "code",
      "source": [
        "response = requests.get(BASE_URL)\n",
        "print(response.json())  # Vérifie le contenu de la réponse\n"
      ],
      "metadata": {
        "colab": {
          "base_uri": "https://localhost:8080/",
          "height": 408
        },
        "id": "-ajinZoOZFBy",
        "outputId": "925d52cb-0ea6-4b99-9739-b83138019009"
      },
      "execution_count": 17,
      "outputs": [
        {
          "output_type": "error",
          "ename": "JSONDecodeError",
          "evalue": "Expecting value: line 1 column 1 (char 0)",
          "traceback": [
            "\u001b[0;31m---------------------------------------------------------------------------\u001b[0m",
            "\u001b[0;31mJSONDecodeError\u001b[0m                           Traceback (most recent call last)",
            "\u001b[0;32m/usr/local/lib/python3.11/dist-packages/requests/models.py\u001b[0m in \u001b[0;36mjson\u001b[0;34m(self, **kwargs)\u001b[0m\n\u001b[1;32m    973\u001b[0m         \u001b[0;32mtry\u001b[0m\u001b[0;34m:\u001b[0m\u001b[0;34m\u001b[0m\u001b[0;34m\u001b[0m\u001b[0m\n\u001b[0;32m--> 974\u001b[0;31m             \u001b[0;32mreturn\u001b[0m \u001b[0mcomplexjson\u001b[0m\u001b[0;34m.\u001b[0m\u001b[0mloads\u001b[0m\u001b[0;34m(\u001b[0m\u001b[0mself\u001b[0m\u001b[0;34m.\u001b[0m\u001b[0mtext\u001b[0m\u001b[0;34m,\u001b[0m \u001b[0;34m**\u001b[0m\u001b[0mkwargs\u001b[0m\u001b[0;34m)\u001b[0m\u001b[0;34m\u001b[0m\u001b[0;34m\u001b[0m\u001b[0m\n\u001b[0m\u001b[1;32m    975\u001b[0m         \u001b[0;32mexcept\u001b[0m \u001b[0mJSONDecodeError\u001b[0m \u001b[0;32mas\u001b[0m \u001b[0me\u001b[0m\u001b[0;34m:\u001b[0m\u001b[0;34m\u001b[0m\u001b[0;34m\u001b[0m\u001b[0m\n",
            "\u001b[0;32m/usr/lib/python3.11/json/__init__.py\u001b[0m in \u001b[0;36mloads\u001b[0;34m(s, cls, object_hook, parse_float, parse_int, parse_constant, object_pairs_hook, **kw)\u001b[0m\n\u001b[1;32m    345\u001b[0m             parse_constant is None and object_pairs_hook is None and not kw):\n\u001b[0;32m--> 346\u001b[0;31m         \u001b[0;32mreturn\u001b[0m \u001b[0m_default_decoder\u001b[0m\u001b[0;34m.\u001b[0m\u001b[0mdecode\u001b[0m\u001b[0;34m(\u001b[0m\u001b[0ms\u001b[0m\u001b[0;34m)\u001b[0m\u001b[0;34m\u001b[0m\u001b[0;34m\u001b[0m\u001b[0m\n\u001b[0m\u001b[1;32m    347\u001b[0m     \u001b[0;32mif\u001b[0m \u001b[0mcls\u001b[0m \u001b[0;32mis\u001b[0m \u001b[0;32mNone\u001b[0m\u001b[0;34m:\u001b[0m\u001b[0;34m\u001b[0m\u001b[0;34m\u001b[0m\u001b[0m\n",
            "\u001b[0;32m/usr/lib/python3.11/json/decoder.py\u001b[0m in \u001b[0;36mdecode\u001b[0;34m(self, s, _w)\u001b[0m\n\u001b[1;32m    336\u001b[0m         \"\"\"\n\u001b[0;32m--> 337\u001b[0;31m         \u001b[0mobj\u001b[0m\u001b[0;34m,\u001b[0m \u001b[0mend\u001b[0m \u001b[0;34m=\u001b[0m \u001b[0mself\u001b[0m\u001b[0;34m.\u001b[0m\u001b[0mraw_decode\u001b[0m\u001b[0;34m(\u001b[0m\u001b[0ms\u001b[0m\u001b[0;34m,\u001b[0m \u001b[0midx\u001b[0m\u001b[0;34m=\u001b[0m\u001b[0m_w\u001b[0m\u001b[0;34m(\u001b[0m\u001b[0ms\u001b[0m\u001b[0;34m,\u001b[0m \u001b[0;36m0\u001b[0m\u001b[0;34m)\u001b[0m\u001b[0;34m.\u001b[0m\u001b[0mend\u001b[0m\u001b[0;34m(\u001b[0m\u001b[0;34m)\u001b[0m\u001b[0;34m)\u001b[0m\u001b[0;34m\u001b[0m\u001b[0;34m\u001b[0m\u001b[0m\n\u001b[0m\u001b[1;32m    338\u001b[0m         \u001b[0mend\u001b[0m \u001b[0;34m=\u001b[0m \u001b[0m_w\u001b[0m\u001b[0;34m(\u001b[0m\u001b[0ms\u001b[0m\u001b[0;34m,\u001b[0m \u001b[0mend\u001b[0m\u001b[0;34m)\u001b[0m\u001b[0;34m.\u001b[0m\u001b[0mend\u001b[0m\u001b[0;34m(\u001b[0m\u001b[0;34m)\u001b[0m\u001b[0;34m\u001b[0m\u001b[0;34m\u001b[0m\u001b[0m\n",
            "\u001b[0;32m/usr/lib/python3.11/json/decoder.py\u001b[0m in \u001b[0;36mraw_decode\u001b[0;34m(self, s, idx)\u001b[0m\n\u001b[1;32m    354\u001b[0m         \u001b[0;32mexcept\u001b[0m \u001b[0mStopIteration\u001b[0m \u001b[0;32mas\u001b[0m \u001b[0merr\u001b[0m\u001b[0;34m:\u001b[0m\u001b[0;34m\u001b[0m\u001b[0;34m\u001b[0m\u001b[0m\n\u001b[0;32m--> 355\u001b[0;31m             \u001b[0;32mraise\u001b[0m \u001b[0mJSONDecodeError\u001b[0m\u001b[0;34m(\u001b[0m\u001b[0;34m\"Expecting value\"\u001b[0m\u001b[0;34m,\u001b[0m \u001b[0ms\u001b[0m\u001b[0;34m,\u001b[0m \u001b[0merr\u001b[0m\u001b[0;34m.\u001b[0m\u001b[0mvalue\u001b[0m\u001b[0;34m)\u001b[0m \u001b[0;32mfrom\u001b[0m \u001b[0;32mNone\u001b[0m\u001b[0;34m\u001b[0m\u001b[0;34m\u001b[0m\u001b[0m\n\u001b[0m\u001b[1;32m    356\u001b[0m         \u001b[0;32mreturn\u001b[0m \u001b[0mobj\u001b[0m\u001b[0;34m,\u001b[0m \u001b[0mend\u001b[0m\u001b[0;34m\u001b[0m\u001b[0;34m\u001b[0m\u001b[0m\n",
            "\u001b[0;31mJSONDecodeError\u001b[0m: Expecting value: line 1 column 1 (char 0)",
            "\nDuring handling of the above exception, another exception occurred:\n",
            "\u001b[0;31mJSONDecodeError\u001b[0m                           Traceback (most recent call last)",
            "\u001b[0;32m<ipython-input-17-c4150547979c>\u001b[0m in \u001b[0;36m<cell line: 0>\u001b[0;34m()\u001b[0m\n\u001b[1;32m      1\u001b[0m \u001b[0mresponse\u001b[0m \u001b[0;34m=\u001b[0m \u001b[0mrequests\u001b[0m\u001b[0;34m.\u001b[0m\u001b[0mget\u001b[0m\u001b[0;34m(\u001b[0m\u001b[0mBASE_URL\u001b[0m\u001b[0;34m)\u001b[0m\u001b[0;34m\u001b[0m\u001b[0;34m\u001b[0m\u001b[0m\n\u001b[0;32m----> 2\u001b[0;31m \u001b[0mprint\u001b[0m\u001b[0;34m(\u001b[0m\u001b[0mresponse\u001b[0m\u001b[0;34m.\u001b[0m\u001b[0mjson\u001b[0m\u001b[0;34m(\u001b[0m\u001b[0;34m)\u001b[0m\u001b[0;34m)\u001b[0m  \u001b[0;31m# Vérifie le contenu de la réponse\u001b[0m\u001b[0;34m\u001b[0m\u001b[0;34m\u001b[0m\u001b[0m\n\u001b[0m",
            "\u001b[0;32m/usr/local/lib/python3.11/dist-packages/requests/models.py\u001b[0m in \u001b[0;36mjson\u001b[0;34m(self, **kwargs)\u001b[0m\n\u001b[1;32m    976\u001b[0m             \u001b[0;31m# Catch JSON-related errors and raise as requests.JSONDecodeError\u001b[0m\u001b[0;34m\u001b[0m\u001b[0;34m\u001b[0m\u001b[0m\n\u001b[1;32m    977\u001b[0m             \u001b[0;31m# This aliases json.JSONDecodeError and simplejson.JSONDecodeError\u001b[0m\u001b[0;34m\u001b[0m\u001b[0;34m\u001b[0m\u001b[0m\n\u001b[0;32m--> 978\u001b[0;31m             \u001b[0;32mraise\u001b[0m \u001b[0mRequestsJSONDecodeError\u001b[0m\u001b[0;34m(\u001b[0m\u001b[0me\u001b[0m\u001b[0;34m.\u001b[0m\u001b[0mmsg\u001b[0m\u001b[0;34m,\u001b[0m \u001b[0me\u001b[0m\u001b[0;34m.\u001b[0m\u001b[0mdoc\u001b[0m\u001b[0;34m,\u001b[0m \u001b[0me\u001b[0m\u001b[0;34m.\u001b[0m\u001b[0mpos\u001b[0m\u001b[0;34m)\u001b[0m\u001b[0;34m\u001b[0m\u001b[0;34m\u001b[0m\u001b[0m\n\u001b[0m\u001b[1;32m    979\u001b[0m \u001b[0;34m\u001b[0m\u001b[0m\n\u001b[1;32m    980\u001b[0m     \u001b[0;34m@\u001b[0m\u001b[0mproperty\u001b[0m\u001b[0;34m\u001b[0m\u001b[0;34m\u001b[0m\u001b[0m\n",
            "\u001b[0;31mJSONDecodeError\u001b[0m: Expecting value: line 1 column 1 (char 0)"
          ]
        }
      ]
    },
    {
      "cell_type": "code",
      "source": [
        "response = requests.get(BASE_URL)\n",
        "print(f\"Statut de la réponse : {response.status_code}\")\n",
        "print(f\"Contenu brut de la réponse : {response.text}\")  # Affiche le contenu brut\n"
      ],
      "metadata": {
        "colab": {
          "base_uri": "https://localhost:8080/"
        },
        "id": "z8EbGoQVaRDi",
        "outputId": "65fdd036-da37-4320-e24a-8da80b805d0b"
      },
      "execution_count": 18,
      "outputs": [
        {
          "output_type": "stream",
          "name": "stdout",
          "text": [
            "Statut de la réponse : 200\n",
            "Contenu brut de la réponse : \n"
          ]
        }
      ]
    }
  ],
  "metadata": {
    "colab": {
      "provenance": [],
      "authorship_tag": "ABX9TyMQbIXI3hNqJu7qYzjXFIka",
      "include_colab_link": true
    },
    "kernelspec": {
      "display_name": "Python 3",
      "name": "python3"
    },
    "language_info": {
      "name": "python"
    }
  },
  "nbformat": 4,
  "nbformat_minor": 0
}