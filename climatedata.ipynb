{
  "nbformat": 4,
  "nbformat_minor": 0,
  "metadata": {
    "colab": {
      "provenance": [],
      "history_visible": true,
      "authorship_tag": "ABX9TyP3bX6hakh2Ph3WZyoDz/ez",
      "include_colab_link": true
    },
    "kernelspec": {
      "name": "python3",
      "display_name": "Python 3"
    },
    "language_info": {
      "name": "python"
    }
  },
  "cells": [
    {
      "cell_type": "markdown",
      "metadata": {
        "id": "view-in-github",
        "colab_type": "text"
      },
      "source": [
        "<a href=\"https://colab.research.google.com/github/adechielie/ATP-Prediction/blob/main/climatedata.ipynb\" target=\"_parent\"><img src=\"https://colab.research.google.com/assets/colab-badge.svg\" alt=\"Open In Colab\"/></a>"
      ]
    },
    {
      "cell_type": "code",
      "source": [
        "import pandas as pd\n",
        "\n",
        "# URL de base du dépôt GitHub\n",
        "base_url = \"https://raw.githubusercontent.com/JeffSackmann/tennis_atp/master/\"\n",
        "\n",
        "# Générer la liste des fichiers à récupérer (de 2000 à 2024)\n",
        "years = range(2000, 2025)  # 2025 exclu, donc va jusqu'à 2024\n",
        "file_urls = [f\"{base_url}atp_matches_{year}.csv\" for year in years]\n",
        "\n",
        "# Télécharger et fusionner les fichiers\n",
        "dfs = []  # Liste pour stocker chaque DataFrame\n",
        "\n",
        "for url in file_urls:\n",
        "    try:\n",
        "        df = pd.read_csv(url)  # Charger les données\n",
        "        dfs.append(df)  # Ajouter le DataFrame à la liste\n",
        "        print(f\"✅ {url} téléchargé avec succès\")\n",
        "    except Exception as e:\n",
        "        print(f\"⚠️ Erreur lors du téléchargement de {url}: {e}\")\n",
        "\n",
        "# Fusionner tous les fichiers en un seul DataFrame\n",
        "atp_data = pd.concat(dfs, ignore_index=True)\n",
        "\n",
        "# Afficher les 20 premières lignes\n",
        "print(atp_data.head(20))\n",
        "\n"
      ],
      "metadata": {
        "colab": {
          "base_uri": "https://localhost:8080/"
        },
        "id": "uXx7GrY_dMge",
        "outputId": "f91653ad-3a7f-48a6-d4b5-dbea04d2718f"
      },
      "execution_count": 1,
      "outputs": [
        {
          "output_type": "stream",
          "name": "stdout",
          "text": [
            "✅ https://raw.githubusercontent.com/JeffSackmann/tennis_atp/master/atp_matches_2000.csv téléchargé avec succès\n",
            "✅ https://raw.githubusercontent.com/JeffSackmann/tennis_atp/master/atp_matches_2001.csv téléchargé avec succès\n",
            "✅ https://raw.githubusercontent.com/JeffSackmann/tennis_atp/master/atp_matches_2002.csv téléchargé avec succès\n",
            "✅ https://raw.githubusercontent.com/JeffSackmann/tennis_atp/master/atp_matches_2003.csv téléchargé avec succès\n",
            "✅ https://raw.githubusercontent.com/JeffSackmann/tennis_atp/master/atp_matches_2004.csv téléchargé avec succès\n",
            "✅ https://raw.githubusercontent.com/JeffSackmann/tennis_atp/master/atp_matches_2005.csv téléchargé avec succès\n",
            "✅ https://raw.githubusercontent.com/JeffSackmann/tennis_atp/master/atp_matches_2006.csv téléchargé avec succès\n",
            "✅ https://raw.githubusercontent.com/JeffSackmann/tennis_atp/master/atp_matches_2007.csv téléchargé avec succès\n",
            "✅ https://raw.githubusercontent.com/JeffSackmann/tennis_atp/master/atp_matches_2008.csv téléchargé avec succès\n",
            "✅ https://raw.githubusercontent.com/JeffSackmann/tennis_atp/master/atp_matches_2009.csv téléchargé avec succès\n",
            "✅ https://raw.githubusercontent.com/JeffSackmann/tennis_atp/master/atp_matches_2010.csv téléchargé avec succès\n",
            "✅ https://raw.githubusercontent.com/JeffSackmann/tennis_atp/master/atp_matches_2011.csv téléchargé avec succès\n",
            "✅ https://raw.githubusercontent.com/JeffSackmann/tennis_atp/master/atp_matches_2012.csv téléchargé avec succès\n",
            "✅ https://raw.githubusercontent.com/JeffSackmann/tennis_atp/master/atp_matches_2013.csv téléchargé avec succès\n",
            "✅ https://raw.githubusercontent.com/JeffSackmann/tennis_atp/master/atp_matches_2014.csv téléchargé avec succès\n",
            "✅ https://raw.githubusercontent.com/JeffSackmann/tennis_atp/master/atp_matches_2015.csv téléchargé avec succès\n",
            "✅ https://raw.githubusercontent.com/JeffSackmann/tennis_atp/master/atp_matches_2016.csv téléchargé avec succès\n",
            "✅ https://raw.githubusercontent.com/JeffSackmann/tennis_atp/master/atp_matches_2017.csv téléchargé avec succès\n",
            "✅ https://raw.githubusercontent.com/JeffSackmann/tennis_atp/master/atp_matches_2018.csv téléchargé avec succès\n",
            "✅ https://raw.githubusercontent.com/JeffSackmann/tennis_atp/master/atp_matches_2019.csv téléchargé avec succès\n",
            "✅ https://raw.githubusercontent.com/JeffSackmann/tennis_atp/master/atp_matches_2020.csv téléchargé avec succès\n",
            "✅ https://raw.githubusercontent.com/JeffSackmann/tennis_atp/master/atp_matches_2021.csv téléchargé avec succès\n",
            "✅ https://raw.githubusercontent.com/JeffSackmann/tennis_atp/master/atp_matches_2022.csv téléchargé avec succès\n",
            "✅ https://raw.githubusercontent.com/JeffSackmann/tennis_atp/master/atp_matches_2023.csv téléchargé avec succès\n",
            "✅ https://raw.githubusercontent.com/JeffSackmann/tennis_atp/master/atp_matches_2024.csv téléchargé avec succès\n",
            "   tourney_id tourney_name surface  draw_size tourney_level  tourney_date  \\\n",
            "0    2000-301     Auckland    Hard         32             A      20000110   \n",
            "1    2000-301     Auckland    Hard         32             A      20000110   \n",
            "2    2000-301     Auckland    Hard         32             A      20000110   \n",
            "3    2000-301     Auckland    Hard         32             A      20000110   \n",
            "4    2000-301     Auckland    Hard         32             A      20000110   \n",
            "5    2000-301     Auckland    Hard         32             A      20000110   \n",
            "6    2000-301     Auckland    Hard         32             A      20000110   \n",
            "7    2000-301     Auckland    Hard         32             A      20000110   \n",
            "8    2000-301     Auckland    Hard         32             A      20000110   \n",
            "9    2000-301     Auckland    Hard         32             A      20000110   \n",
            "10   2000-301     Auckland    Hard         32             A      20000110   \n",
            "11   2000-301     Auckland    Hard         32             A      20000110   \n",
            "12   2000-301     Auckland    Hard         32             A      20000110   \n",
            "13   2000-301     Auckland    Hard         32             A      20000110   \n",
            "14   2000-301     Auckland    Hard         32             A      20000110   \n",
            "15   2000-301     Auckland    Hard         32             A      20000110   \n",
            "16   2000-301     Auckland    Hard         32             A      20000110   \n",
            "17   2000-301     Auckland    Hard         32             A      20000110   \n",
            "18   2000-301     Auckland    Hard         32             A      20000110   \n",
            "19   2000-301     Auckland    Hard         32             A      20000110   \n",
            "\n",
            "    match_num  winner_id  winner_seed winner_entry  ... l_1stIn l_1stWon  \\\n",
            "0           1     103163          1.0          NaN  ...    55.0     39.0   \n",
            "1           2     102607          NaN            Q  ...    32.0     25.0   \n",
            "2           3     103252          NaN          NaN  ...    33.0     20.0   \n",
            "3           4     103507          7.0          NaN  ...    43.0     29.0   \n",
            "4           5     102103          NaN            Q  ...    46.0     34.0   \n",
            "5           6     102021          NaN          NaN  ...    65.0     41.0   \n",
            "6           7     101320          NaN          NaN  ...    45.0     28.0   \n",
            "7           8     102563          5.0          NaN  ...    41.0     24.0   \n",
            "8           9     102854          6.0          NaN  ...    43.0     33.0   \n",
            "9          10     102494          NaN            Q  ...    29.0     21.0   \n",
            "10         11     103292          NaN          NaN  ...    55.0     38.0   \n",
            "11         12     102562          3.0          NaN  ...    59.0     38.0   \n",
            "12         13     101820          8.0          NaN  ...    32.0     20.0   \n",
            "13         14     102770          NaN          NaN  ...    39.0     24.0   \n",
            "14         15     102998          NaN          NaN  ...    47.0     36.0   \n",
            "15         16     102796          2.0          NaN  ...    28.0     21.0   \n",
            "16         17     102607          NaN            Q  ...    42.0     28.0   \n",
            "17         18     103507          7.0          NaN  ...    76.0     44.0   \n",
            "18         19     102021          NaN          NaN  ...    65.0     40.0   \n",
            "19         20     101320          NaN          NaN  ...    25.0     17.0   \n",
            "\n",
            "    l_2ndWon l_SvGms  l_bpSaved  l_bpFaced  winner_rank winner_rank_points  \\\n",
            "0       29.0    17.0        4.0        7.0         11.0             1612.0   \n",
            "1       18.0    12.0        3.0        6.0        211.0              157.0   \n",
            "2        7.0     8.0        7.0       11.0         48.0              726.0   \n",
            "3       14.0    10.0        6.0        8.0         45.0              768.0   \n",
            "4       18.0    12.0        5.0        9.0        167.0              219.0   \n",
            "5       21.0    17.0        2.0        5.0         50.0              722.0   \n",
            "6       12.0    10.0        9.0       12.0         60.0              626.0   \n",
            "7       13.0     9.0        3.0        6.0         43.0              785.0   \n",
            "8       14.0    14.0        5.0       11.0         37.0              843.0   \n",
            "9       11.0     8.0        5.0        9.0        115.0              344.0   \n",
            "10      26.0    17.0        3.0        8.0         72.0              553.0   \n",
            "11      17.0    11.0       14.0       18.0         38.0              831.0   \n",
            "12       8.0    10.0        1.0        5.0         46.0              761.0   \n",
            "13      10.0     8.0        7.0       11.0         66.0              585.0   \n",
            "14      13.0    14.0        2.0        5.0         57.0              683.0   \n",
            "15      11.0    10.0        2.0        5.0         14.0             1498.0   \n",
            "16      26.0    11.0        4.0        6.0        211.0              157.0   \n",
            "17      14.0    15.0       10.0       16.0         45.0              768.0   \n",
            "18      18.0    16.0        8.0       12.0         50.0              722.0   \n",
            "19      14.0     9.0        5.0        9.0         60.0              626.0   \n",
            "\n",
            "   loser_rank loser_rank_points  \n",
            "0        63.0             595.0  \n",
            "1        49.0             723.0  \n",
            "2        59.0             649.0  \n",
            "3        61.0             616.0  \n",
            "4        34.0             873.0  \n",
            "5        70.0             563.0  \n",
            "6       246.0             135.0  \n",
            "7       334.0              88.0  \n",
            "8        68.0             571.0  \n",
            "9        95.0             416.0  \n",
            "10       52.0             715.0  \n",
            "11       76.0             514.0  \n",
            "12       53.0             707.0  \n",
            "13       56.0             685.0  \n",
            "14       80.0             475.0  \n",
            "15      149.0             251.0  \n",
            "16       11.0            1612.0  \n",
            "17       48.0             726.0  \n",
            "18      167.0             219.0  \n",
            "19       43.0             785.0  \n",
            "\n",
            "[20 rows x 49 columns]\n"
          ]
        }
      ]
    },
    {
      "cell_type": "code",
      "execution_count": null,
      "metadata": {
        "id": "VIEzCFJ3nMVx"
      },
      "outputs": [],
      "source": [
        "\n",
        "tourney_name = atp_data['tourney_name'].unique()\n",
        "df_tourney = pd.DataFrame(tourney_name, columns=[\"tourney_name\"])\n"
      ]
    },
    {
      "cell_type": "code",
      "source": [
        "# Nombre de tournois\n",
        "display(atp_data['tourney_name'].unique())"
      ],
      "metadata": {
        "colab": {
          "base_uri": "https://localhost:8080/",
          "height": 69
        },
        "id": "jtEGPgjqzJtG",
        "outputId": "34fb6d4c-a251-4f17-c111-bc421e404218"
      },
      "execution_count": 3,
      "outputs": [
        {
          "output_type": "display_data",
          "data": {
            "text/plain": [
              "array(['Auckland', 'St. Poelten', 'Munich', ...,\n",
              "       'Davis Cup WG2 PO: TUN vs CRC', 'Davis Cup WG2 PO: URU vs MDA',\n",
              "       'Davis Cup WG2 PO: VIE vs RSA'], dtype=object)"
            ]
          },
          "metadata": {}
        }
      ]
    },
    {
      "cell_type": "code",
      "source": [
        "# Filtrer les lignes où 'tourney_name' commence par 'Davis Cup' et compter\n",
        "count = atp_data[atp_data['tourney_name'].str.startswith('Davis Cup', na=False)].shape[0]\n",
        "\n",
        "print(f\"il y'a eu {count} matchs de Davis Cup entre 2000 et 2024\")"
      ],
      "metadata": {
        "colab": {
          "base_uri": "https://localhost:8080/"
        },
        "id": "FkLQUWyXM51F",
        "outputId": "f678f8a7-f035-4ae4-f5d2-d6822d6dfce8"
      },
      "execution_count": 4,
      "outputs": [
        {
          "output_type": "stream",
          "name": "stdout",
          "text": [
            "il y'a eu 6987 matchs de Davis Cup entre 2000 et 2024\n"
          ]
        }
      ]
    },
    {
      "cell_type": "code",
      "source": [
        "# Nombre de matchs total du dataset\n",
        "print(atp_data.shape[0])"
      ],
      "metadata": {
        "colab": {
          "base_uri": "https://localhost:8080/"
        },
        "id": "4KZmOcSdOg3F",
        "outputId": "4db19650-720a-4271-9fea-f8982e34722b"
      },
      "execution_count": 6,
      "outputs": [
        {
          "output_type": "stream",
          "name": "stdout",
          "text": [
            "74906\n"
          ]
        }
      ]
    },
    {
      "cell_type": "code",
      "source": [
        "# Supression des matchs de Davis Cup\n",
        "atp_data = atp_data[-atp_data['tourney_name'].str.startswith(\"Davis Cup\")]"
      ],
      "metadata": {
        "id": "wA97tpE_PJA2"
      },
      "execution_count": 7,
      "outputs": []
    },
    {
      "cell_type": "code",
      "source": [
        "# Nouveau nombre de matchs total du dataset\n",
        "print(atp_data.shape[0])"
      ],
      "metadata": {
        "colab": {
          "base_uri": "https://localhost:8080/"
        },
        "id": "KOe4-pwsQK8Q",
        "outputId": "3b4e1c0d-af78-40da-f5db-762ec1e7268d"
      },
      "execution_count": 8,
      "outputs": [
        {
          "output_type": "stream",
          "name": "stdout",
          "text": [
            "67919\n"
          ]
        }
      ]
    },
    {
      "cell_type": "code",
      "source": [
        "# Nombre de tournois\n",
        "display(atp_data['tourney_name'].unique())"
      ],
      "metadata": {
        "colab": {
          "base_uri": "https://localhost:8080/",
          "height": 642
        },
        "id": "03GYRfx3QrQf",
        "outputId": "58dcdc52-3879-4310-b527-4d50ecd40c60"
      },
      "execution_count": 9,
      "outputs": [
        {
          "output_type": "display_data",
          "data": {
            "text/plain": [
              "array(['Auckland', 'St. Poelten', 'Munich', \"Queen's Club\", 'Gstaad',\n",
              "       'Newport', 'Bastad', 'Amsterdam', 'Kitzbuhel', 'Stuttgart Outdoor',\n",
              "       'Palermo', 'Toulouse', 'Basel', 'Tokyo', 'Hong Kong', 'Vienna',\n",
              "       'Sydney', 'Adelaide', 'Paris Masters', 'Stuttgart Masters',\n",
              "       'Bogota', 'Casablanca', 'Lyon', 'Memphis', 'Miami Masters',\n",
              "       'Indian Wells Masters', 'Rotterdam', 'London', 'Atlanta',\n",
              "       'Monte Carlo Masters', 'Hamburg Masters', 'Rome Masters',\n",
              "       'Washington', 'Indianapolis', 'Canada Masters',\n",
              "       'Cincinnati Masters', 'Los Angeles', 'San Jose', 'Barcelona',\n",
              "       'Stockholm', 'Scottsdale', 'Moscow', 'Umag', 's Hertogenbosch',\n",
              "       'Long Island', 'Doha', 'Estoril', 'San Marino', 'Copenhagen',\n",
              "       'Dubai', 'Marseille', 'Delray Beach', 'Halle', 'Santiago',\n",
              "       'Roland Garros', 'Wimbledon', 'US Open', 'St. Petersburg',\n",
              "       'Mallorca', 'Australian Open', 'Masters Cup', 'Dusseldorf',\n",
              "       'Brighton', 'Orlando', 'Tashkent', 'Nottingham', 'Bucharest',\n",
              "       'Mexico City', 'Shanghai', 'Chennai', 'Sydney Olympics',\n",
              "       'Stuttgart', 'Milan', 'Sopot', 'Vina del Mar', 'Buenos Aires',\n",
              "       'Costa Do Sauipe', 'Houston', 'Acapulco', 'Madrid Masters',\n",
              "       'Amersfoort', 'Bangkok', 'Metz', 'Valencia', 'Beijing',\n",
              "       'Athens Olympics', 'New Haven', 'Ho Chi Minh City', 'Zagreb',\n",
              "       'Poertschach', 'Mumbai', 'Las Vegas', 'Warsaw', 'Beijing Olympics',\n",
              "       'Brisbane', 'Hamburg', 'Johannesburg', 'Shanghai Masters',\n",
              "       'Belgrade', 'Kuala Lumpur', 'Tour Finals', 'Eastbourne', 'Nice',\n",
              "       'Montpellier', 'Winston-Salem', 'Sao Paulo', 'London Olympics',\n",
              "       'Rio de Janeiro', 'Shenzhen', 'Quito', 'Istanbul', 'Geneva',\n",
              "       'Sofia', 'Marrakech', 'Los Cabos', 'Rio Olympics', 'Chengdu',\n",
              "       'Antwerp', 'Budapest', 'Antalya', 'NextGen Finals', 'Laver Cup',\n",
              "       'Pune', 'New York', 'Cordoba', 'Zhuhai', 'Atp Cup',\n",
              "       'ATP Rio de Janeiro', 'Us Open', 'Cologne 1', 'Sardinia',\n",
              "       'St Petersburg', 'Cologne 2', 'Nur-Sultan', 'Tokyo Olympics',\n",
              "       'Great Ocean Road Open', 'Murray River Open', 'Singapore',\n",
              "       'Marbella', 'Cagliari', 'Parma', 'Belgrade 2', 'San Diego',\n",
              "       'Adelaide 1', 'Melbourne', 'Adelaide 2', 'Dallas', 'Belgrade ',\n",
              "       'Seoul', 'Tel Aviv', 'Astana', 'Florence', 'Gijon', 'Naples',\n",
              "       'United Cup', 'Rio De Janeiro', 'Banja Luka', 'Paris Olympics',\n",
              "       'Hangzhou', 'Almaty', 'Next Gen Finals'], dtype=object)"
            ]
          },
          "metadata": {}
        }
      ]
    },
    {
      "cell_type": "code",
      "source": [
        "atp_data['Location']=atp_data['tourney_name']"
      ],
      "metadata": {
        "id": "E1kXEfX-UbpA"
      },
      "execution_count": 2,
      "outputs": []
    },
    {
      "cell_type": "code",
      "source": [
        "atp_data['Location'].replace(to_replace={'Stuttgart Outdoor':'Stuttgart',\n",
        "                                                'Paris Masters' : 'Paris',\n",
        "                                                'Stuttgart Masters' :'Stuttgart',\n",
        "                                                'Miami Masters' :'Miami',\n",
        "                                                'Indian Wells Masters': 'Indian Wells',\n",
        "                                                'Monte Carlo Masters' : 'Monte Carlo',\n",
        "                                                'Hamburg Masters' :'Hamburg',\n",
        "                                                'Rome Masters' : 'Rome',\n",
        "                                                'Canada Masters' : 'Toronto',\n",
        "                                                'Cincinnati Masters' : 'Cincinnati',\n",
        "                                                'Shanghai Masters' : 'Shanghai',\n",
        "                                                'Atlanta Masters' : 'Atlanta',\n",
        "                                                'Roland Garros' : 'Paris',\n",
        "                                                'Buenos Aires Masters' : 'Buenos Aires',\n",
        "                                                'Dubai Masters' : 'Dubai',\n",
        "                                                'Vienna Masters' : 'Vienna',\n",
        "                                                'Mexico City Masters' : 'Mexico City',\n",
        "                                                'Wimbledon' : 'London',\n",
        "                                                'Madrid Masters' : 'Madrid',\n",
        "                                                'Barcelona Masters' : 'Barcelona',\n",
        "                                                'US Open': 'New York',\n",
        "                                                'London Olympics' : 'London',\n",
        "                                                'Paris Olympics' : 'Paris',\n",
        "                                                'Tokyo Olympics' : 'Tokyo',\n",
        "                                                'Rio Olympics' : 'Rio de Janeiro',\n",
        "                                                'Australian Open' : 'Melbourne',\n",
        "                                                'Dubai Masters' : 'Dubai',\n",
        "                                                'Laver Cup' :'London',\n",
        "                                                'ATP Rio de Janeiro' : 'Rio de Janeiro',\n",
        "                                                'Adelaide 1' : 'Adelaide',\n",
        "                                                'Adelaide 2': 'Adelaide',\n",
        "                                                'Belgrade 1' : 'Belgrade',\n",
        "                                                'Belgrade 2' : 'Belgrade',\n",
        "                                                'Cologne 1' : 'Cologne'\n",
        "                                                 }, inplace = True\n",
        "                                         )"
      ],
      "metadata": {
        "colab": {
          "base_uri": "https://localhost:8080/"
        },
        "id": "S5CWxN7BU2iy",
        "outputId": "f8c6ed54-e756-4bee-d1d0-3250a1372fc7"
      },
      "execution_count": 3,
      "outputs": [
        {
          "output_type": "stream",
          "name": "stderr",
          "text": [
            "<ipython-input-3-7f698417da35>:1: FutureWarning: A value is trying to be set on a copy of a DataFrame or Series through chained assignment using an inplace method.\n",
            "The behavior will change in pandas 3.0. This inplace method will never work because the intermediate object on which we are setting values always behaves as a copy.\n",
            "\n",
            "For example, when doing 'df[col].method(value, inplace=True)', try using 'df.method({col: value}, inplace=True)' or df[col] = df[col].method(value) instead, to perform the operation inplace on the original object.\n",
            "\n",
            "\n",
            "  atp_data['Location'].replace(to_replace={'Stuttgart Outdoor':'Stuttgart',\n"
          ]
        }
      ]
    },
    {
      "cell_type": "code",
      "source": [
        "import requests\n",
        "import pandas as pd\n",
        "\n",
        "# Liste des villes\n",
        "unique_locations = atp_data['Location'].unique()\n",
        "locations = {city: None for city in unique_locations}\n",
        "\n",
        "# API Open-Meteo\n",
        "BASE_URL = \"https://api.open-meteo.com/v1/forecast\"\n",
        "START_DATE = \"2000-01-01\"\n",
        "END_DATE = \"2024-12-31\"\n",
        "\n",
        "def get_all_city_coordinates():\n",
        "    \"\"\"Récupère les coordonnées GPS de toutes les villes en une seule fois.\"\"\"\n",
        "    for city in locations.keys():\n",
        "        geocode_url = f\"https://nominatim.openstreetmap.org/search?city={city}&format=json\"\n",
        "        response = requests.get(geocode_url).json()\n",
        "        if response:\n",
        "            locations[city] = (float(response[0][\"lat\"]), float(response[0][\"lon\"]))\n",
        "        else:\n",
        "            print(f\"⚠️ Coordonnées introuvables pour {city}\")\n",
        "\n",
        "def fetch_weather_data():\n",
        "    \"\"\"Récupère les températures et l'humidité journalières pour toutes les villes en un seul appel API.\"\"\"\n",
        "    latitudes = []\n",
        "    longitudes = []\n",
        "    city_names = []\n",
        "\n",
        "    for city, coords in locations.items():\n",
        "        if coords:\n",
        "            latitudes.append(str(coords[0]))\n",
        "            longitudes.append(str(coords[1]))\n",
        "            city_names.append(city)\n",
        "\n",
        "    params = {\n",
        "        \"latitude\": \",\".join(latitudes),\n",
        "        \"longitude\": \",\".join(longitudes),\n",
        "        \"start_date\": START_DATE,\n",
        "        \"end_date\": END_DATE,\n",
        "        \"daily\": \"temperature_2m_max,humidity_2m_mean\",\n",
        "        \"timezone\": \"auto\"\n",
        "    }\n",
        "\n",
        "    response = requests.get(BASE_URL, params=params).json()\n",
        "    all_data = []\n",
        "\n",
        "    # Get weather data for each city\n",
        "    for i, city in enumerate(city_names):\n",
        "        daily_data = response.get(\"daily\", {})\n",
        "        for date, temp, humidity in zip(\n",
        "            daily_data.get(\"time\", []),\n",
        "            daily_data.get(\"temperature_2m_max\", []),\n",
        "            daily_data.get(\"humidity_2m_mean\", [])\n",
        "        ):\n",
        "            all_data.append([city, date, temp, humidity])\n",
        "\n",
        "    return pd.DataFrame(all_data, columns=[\"City\", \"Date\", \"Temperature\", \"Humidity\"])\n",
        "\n",
        "# Exécution des fonctions\n",
        "get_all_city_coordinates()\n",
        "df_weather = fetch_weather_data()\n",
        "\n",
        "# Affichage des 20 premières lignes\n",
        "print(df_weather.head())\n",
        "\n"
      ],
      "metadata": {
        "colab": {
          "base_uri": "https://localhost:8080/",
          "height": 408
        },
        "id": "Mp2TtczVZm27",
        "outputId": "7bb215fd-c9fa-4c3c-bde5-4c22f3048fb7"
      },
      "execution_count": 12,
      "outputs": [
        {
          "output_type": "error",
          "ename": "JSONDecodeError",
          "evalue": "Expecting value: line 1 column 1 (char 0)",
          "traceback": [
            "\u001b[0;31m---------------------------------------------------------------------------\u001b[0m",
            "\u001b[0;31mJSONDecodeError\u001b[0m                           Traceback (most recent call last)",
            "\u001b[0;32m/usr/local/lib/python3.11/dist-packages/requests/models.py\u001b[0m in \u001b[0;36mjson\u001b[0;34m(self, **kwargs)\u001b[0m\n\u001b[1;32m    973\u001b[0m         \u001b[0;32mtry\u001b[0m\u001b[0;34m:\u001b[0m\u001b[0;34m\u001b[0m\u001b[0;34m\u001b[0m\u001b[0m\n\u001b[0;32m--> 974\u001b[0;31m             \u001b[0;32mreturn\u001b[0m \u001b[0mcomplexjson\u001b[0m\u001b[0;34m.\u001b[0m\u001b[0mloads\u001b[0m\u001b[0;34m(\u001b[0m\u001b[0mself\u001b[0m\u001b[0;34m.\u001b[0m\u001b[0mtext\u001b[0m\u001b[0;34m,\u001b[0m \u001b[0;34m**\u001b[0m\u001b[0mkwargs\u001b[0m\u001b[0;34m)\u001b[0m\u001b[0;34m\u001b[0m\u001b[0;34m\u001b[0m\u001b[0m\n\u001b[0m\u001b[1;32m    975\u001b[0m         \u001b[0;32mexcept\u001b[0m \u001b[0mJSONDecodeError\u001b[0m \u001b[0;32mas\u001b[0m \u001b[0me\u001b[0m\u001b[0;34m:\u001b[0m\u001b[0;34m\u001b[0m\u001b[0;34m\u001b[0m\u001b[0m\n",
            "\u001b[0;32m/usr/lib/python3.11/json/__init__.py\u001b[0m in \u001b[0;36mloads\u001b[0;34m(s, cls, object_hook, parse_float, parse_int, parse_constant, object_pairs_hook, **kw)\u001b[0m\n\u001b[1;32m    345\u001b[0m             parse_constant is None and object_pairs_hook is None and not kw):\n\u001b[0;32m--> 346\u001b[0;31m         \u001b[0;32mreturn\u001b[0m \u001b[0m_default_decoder\u001b[0m\u001b[0;34m.\u001b[0m\u001b[0mdecode\u001b[0m\u001b[0;34m(\u001b[0m\u001b[0ms\u001b[0m\u001b[0;34m)\u001b[0m\u001b[0;34m\u001b[0m\u001b[0;34m\u001b[0m\u001b[0m\n\u001b[0m\u001b[1;32m    347\u001b[0m     \u001b[0;32mif\u001b[0m \u001b[0mcls\u001b[0m \u001b[0;32mis\u001b[0m \u001b[0;32mNone\u001b[0m\u001b[0;34m:\u001b[0m\u001b[0;34m\u001b[0m\u001b[0;34m\u001b[0m\u001b[0m\n",
            "\u001b[0;32m/usr/lib/python3.11/json/decoder.py\u001b[0m in \u001b[0;36mdecode\u001b[0;34m(self, s, _w)\u001b[0m\n\u001b[1;32m    336\u001b[0m         \"\"\"\n\u001b[0;32m--> 337\u001b[0;31m         \u001b[0mobj\u001b[0m\u001b[0;34m,\u001b[0m \u001b[0mend\u001b[0m \u001b[0;34m=\u001b[0m \u001b[0mself\u001b[0m\u001b[0;34m.\u001b[0m\u001b[0mraw_decode\u001b[0m\u001b[0;34m(\u001b[0m\u001b[0ms\u001b[0m\u001b[0;34m,\u001b[0m \u001b[0midx\u001b[0m\u001b[0;34m=\u001b[0m\u001b[0m_w\u001b[0m\u001b[0;34m(\u001b[0m\u001b[0ms\u001b[0m\u001b[0;34m,\u001b[0m \u001b[0;36m0\u001b[0m\u001b[0;34m)\u001b[0m\u001b[0;34m.\u001b[0m\u001b[0mend\u001b[0m\u001b[0;34m(\u001b[0m\u001b[0;34m)\u001b[0m\u001b[0;34m)\u001b[0m\u001b[0;34m\u001b[0m\u001b[0;34m\u001b[0m\u001b[0m\n\u001b[0m\u001b[1;32m    338\u001b[0m         \u001b[0mend\u001b[0m \u001b[0;34m=\u001b[0m \u001b[0m_w\u001b[0m\u001b[0;34m(\u001b[0m\u001b[0ms\u001b[0m\u001b[0;34m,\u001b[0m \u001b[0mend\u001b[0m\u001b[0;34m)\u001b[0m\u001b[0;34m.\u001b[0m\u001b[0mend\u001b[0m\u001b[0;34m(\u001b[0m\u001b[0;34m)\u001b[0m\u001b[0;34m\u001b[0m\u001b[0;34m\u001b[0m\u001b[0m\n",
            "\u001b[0;32m/usr/lib/python3.11/json/decoder.py\u001b[0m in \u001b[0;36mraw_decode\u001b[0;34m(self, s, idx)\u001b[0m\n\u001b[1;32m    354\u001b[0m         \u001b[0;32mexcept\u001b[0m \u001b[0mStopIteration\u001b[0m \u001b[0;32mas\u001b[0m \u001b[0merr\u001b[0m\u001b[0;34m:\u001b[0m\u001b[0;34m\u001b[0m\u001b[0;34m\u001b[0m\u001b[0m\n\u001b[0;32m--> 355\u001b[0;31m             \u001b[0;32mraise\u001b[0m \u001b[0mJSONDecodeError\u001b[0m\u001b[0;34m(\u001b[0m\u001b[0;34m\"Expecting value\"\u001b[0m\u001b[0;34m,\u001b[0m \u001b[0ms\u001b[0m\u001b[0;34m,\u001b[0m \u001b[0merr\u001b[0m\u001b[0;34m.\u001b[0m\u001b[0mvalue\u001b[0m\u001b[0;34m)\u001b[0m \u001b[0;32mfrom\u001b[0m \u001b[0;32mNone\u001b[0m\u001b[0;34m\u001b[0m\u001b[0;34m\u001b[0m\u001b[0m\n\u001b[0m\u001b[1;32m    356\u001b[0m         \u001b[0;32mreturn\u001b[0m \u001b[0mobj\u001b[0m\u001b[0;34m,\u001b[0m \u001b[0mend\u001b[0m\u001b[0;34m\u001b[0m\u001b[0;34m\u001b[0m\u001b[0m\n",
            "\u001b[0;31mJSONDecodeError\u001b[0m: Expecting value: line 1 column 1 (char 0)",
            "\nDuring handling of the above exception, another exception occurred:\n",
            "\u001b[0;31mJSONDecodeError\u001b[0m                           Traceback (most recent call last)",
            "\u001b[0;32m<ipython-input-12-e9ecad077113>\u001b[0m in \u001b[0;36m<cell line: 0>\u001b[0;34m()\u001b[0m\n\u001b[1;32m     58\u001b[0m \u001b[0;34m\u001b[0m\u001b[0m\n\u001b[1;32m     59\u001b[0m \u001b[0;31m# Exécution des fonctions\u001b[0m\u001b[0;34m\u001b[0m\u001b[0;34m\u001b[0m\u001b[0m\n\u001b[0;32m---> 60\u001b[0;31m \u001b[0mget_all_city_coordinates\u001b[0m\u001b[0;34m(\u001b[0m\u001b[0;34m)\u001b[0m\u001b[0;34m\u001b[0m\u001b[0;34m\u001b[0m\u001b[0m\n\u001b[0m\u001b[1;32m     61\u001b[0m \u001b[0mdf_weather\u001b[0m \u001b[0;34m=\u001b[0m \u001b[0mfetch_weather_data\u001b[0m\u001b[0;34m(\u001b[0m\u001b[0;34m)\u001b[0m\u001b[0;34m\u001b[0m\u001b[0;34m\u001b[0m\u001b[0m\n\u001b[1;32m     62\u001b[0m \u001b[0;34m\u001b[0m\u001b[0m\n",
            "\u001b[0;32m<ipython-input-12-e9ecad077113>\u001b[0m in \u001b[0;36mget_all_city_coordinates\u001b[0;34m()\u001b[0m\n\u001b[1;32m     15\u001b[0m     \u001b[0;32mfor\u001b[0m \u001b[0mcity\u001b[0m \u001b[0;32min\u001b[0m \u001b[0mlocations\u001b[0m\u001b[0;34m.\u001b[0m\u001b[0mkeys\u001b[0m\u001b[0;34m(\u001b[0m\u001b[0;34m)\u001b[0m\u001b[0;34m:\u001b[0m\u001b[0;34m\u001b[0m\u001b[0;34m\u001b[0m\u001b[0m\n\u001b[1;32m     16\u001b[0m         \u001b[0mgeocode_url\u001b[0m \u001b[0;34m=\u001b[0m \u001b[0;34mf\"https://nominatim.openstreetmap.org/search?city={city}&format=json\"\u001b[0m\u001b[0;34m\u001b[0m\u001b[0;34m\u001b[0m\u001b[0m\n\u001b[0;32m---> 17\u001b[0;31m         \u001b[0mresponse\u001b[0m \u001b[0;34m=\u001b[0m \u001b[0mrequests\u001b[0m\u001b[0;34m.\u001b[0m\u001b[0mget\u001b[0m\u001b[0;34m(\u001b[0m\u001b[0mgeocode_url\u001b[0m\u001b[0;34m)\u001b[0m\u001b[0;34m.\u001b[0m\u001b[0mjson\u001b[0m\u001b[0;34m(\u001b[0m\u001b[0;34m)\u001b[0m\u001b[0;34m\u001b[0m\u001b[0;34m\u001b[0m\u001b[0m\n\u001b[0m\u001b[1;32m     18\u001b[0m         \u001b[0;32mif\u001b[0m \u001b[0mresponse\u001b[0m\u001b[0;34m:\u001b[0m\u001b[0;34m\u001b[0m\u001b[0;34m\u001b[0m\u001b[0m\n\u001b[1;32m     19\u001b[0m             \u001b[0mlocations\u001b[0m\u001b[0;34m[\u001b[0m\u001b[0mcity\u001b[0m\u001b[0;34m]\u001b[0m \u001b[0;34m=\u001b[0m \u001b[0;34m(\u001b[0m\u001b[0mfloat\u001b[0m\u001b[0;34m(\u001b[0m\u001b[0mresponse\u001b[0m\u001b[0;34m[\u001b[0m\u001b[0;36m0\u001b[0m\u001b[0;34m]\u001b[0m\u001b[0;34m[\u001b[0m\u001b[0;34m\"lat\"\u001b[0m\u001b[0;34m]\u001b[0m\u001b[0;34m)\u001b[0m\u001b[0;34m,\u001b[0m \u001b[0mfloat\u001b[0m\u001b[0;34m(\u001b[0m\u001b[0mresponse\u001b[0m\u001b[0;34m[\u001b[0m\u001b[0;36m0\u001b[0m\u001b[0;34m]\u001b[0m\u001b[0;34m[\u001b[0m\u001b[0;34m\"lon\"\u001b[0m\u001b[0;34m]\u001b[0m\u001b[0;34m)\u001b[0m\u001b[0;34m)\u001b[0m\u001b[0;34m\u001b[0m\u001b[0;34m\u001b[0m\u001b[0m\n",
            "\u001b[0;32m/usr/local/lib/python3.11/dist-packages/requests/models.py\u001b[0m in \u001b[0;36mjson\u001b[0;34m(self, **kwargs)\u001b[0m\n\u001b[1;32m    976\u001b[0m             \u001b[0;31m# Catch JSON-related errors and raise as requests.JSONDecodeError\u001b[0m\u001b[0;34m\u001b[0m\u001b[0;34m\u001b[0m\u001b[0m\n\u001b[1;32m    977\u001b[0m             \u001b[0;31m# This aliases json.JSONDecodeError and simplejson.JSONDecodeError\u001b[0m\u001b[0;34m\u001b[0m\u001b[0;34m\u001b[0m\u001b[0m\n\u001b[0;32m--> 978\u001b[0;31m             \u001b[0;32mraise\u001b[0m \u001b[0mRequestsJSONDecodeError\u001b[0m\u001b[0;34m(\u001b[0m\u001b[0me\u001b[0m\u001b[0;34m.\u001b[0m\u001b[0mmsg\u001b[0m\u001b[0;34m,\u001b[0m \u001b[0me\u001b[0m\u001b[0;34m.\u001b[0m\u001b[0mdoc\u001b[0m\u001b[0;34m,\u001b[0m \u001b[0me\u001b[0m\u001b[0;34m.\u001b[0m\u001b[0mpos\u001b[0m\u001b[0;34m)\u001b[0m\u001b[0;34m\u001b[0m\u001b[0;34m\u001b[0m\u001b[0m\n\u001b[0m\u001b[1;32m    979\u001b[0m \u001b[0;34m\u001b[0m\u001b[0m\n\u001b[1;32m    980\u001b[0m     \u001b[0;34m@\u001b[0m\u001b[0mproperty\u001b[0m\u001b[0;34m\u001b[0m\u001b[0;34m\u001b[0m\u001b[0m\n",
            "\u001b[0;31mJSONDecodeError\u001b[0m: Expecting value: line 1 column 1 (char 0)"
          ]
        }
      ]
    },
    {
      "cell_type": "code",
      "source": [
        "# Sauvegarde en CSV\n",
        "df_weather.to_csv(\"historical_weather_data.csv\", index=False)"
      ],
      "metadata": {
        "id": "a14nkegH6bce"
      },
      "execution_count": null,
      "outputs": []
    },
    {
      "cell_type": "code",
      "source": [
        "import requests\n",
        "import time\n",
        "\n",
        "\n",
        "# Liste des villes\n",
        "unique_locations = atp_data['Location'].unique()\n",
        "locations = {city: None for city in unique_locations}\n",
        "\n",
        "# API Open-Meteo\n",
        "BASE_URL = \"https://api.open-meteo.com/v1/forecast\"\n",
        "START_DATE = \"2000-01-01\"\n",
        "END_DATE = \"2024-12-31\"\n",
        "\n",
        "def get_all_city_coordinates():\n",
        "    \"\"\"Récupère les coordonnées GPS de toutes les villes en une seule fois.\"\"\"\n",
        "    headers = {\n",
        "        \"User-Agent\": \"prediction_atp (adechielie@yahoo.fr)\"\n",
        "    }\n",
        "\n",
        "    for city in locations.keys():\n",
        "        geocode_url = f\"https://nominatim.openstreetmap.org/search?city={city}&format=json\"\n",
        "        response = requests.get(geocode_url, headers=headers)  # Ajout des headers\n",
        "        time.sleep(1)  # Pause pour éviter le blocage\n",
        "\n",
        "        try:\n",
        "            response_json = response.json()\n",
        "            if response_json:\n",
        "                locations[city] = (float(response_json[0][\"lat\"]), float(response_json[0][\"lon\"]))\n",
        "            else:\n",
        "                print(f\"⚠️ Coordonnées introuvables pour {city}\")\n",
        "        except requests.exceptions.JSONDecodeError:\n",
        "            print(f\"❌ Erreur JSON pour {city}\")\n",
        "\n",
        "get_all_city_coordinates()\n",
        "\n"
      ],
      "metadata": {
        "id": "rceJ7U8o7SDq",
        "outputId": "3d3aff25-10ce-4486-d2ee-f0862835263f",
        "colab": {
          "base_uri": "https://localhost:8080/",
          "height": 627
        }
      },
      "execution_count": 5,
      "outputs": [
        {
          "output_type": "stream",
          "name": "stdout",
          "text": [
            "⚠️ Coordonnées introuvables pour Masters Cup\n",
            "⚠️ Coordonnées introuvables pour Sydney Olympics\n",
            "⚠️ Coordonnées introuvables pour Davis Cup WG QF: USA vs CZE\n",
            "⚠️ Coordonnées introuvables pour Davis Cup WG QF: ESP vs RUS\n",
            "⚠️ Coordonnées introuvables pour Davis Cup WG QF: BRA vs SVK\n",
            "⚠️ Coordonnées introuvables pour Davis Cup WG QF: AUS vs GER\n",
            "⚠️ Coordonnées introuvables pour Davis Cup G2 SF: VEN vs PAR\n",
            "⚠️ Coordonnées introuvables pour Davis Cup G2 SF: GUA vs MEX\n",
            "⚠️ Coordonnées introuvables pour Davis Cup G1 SF: CHI vs ARG\n",
            "⚠️ Coordonnées introuvables pour Davis Cup G1 SF: PER vs ECU\n",
            "⚠️ Coordonnées introuvables pour Davis Cup G1 SF: UZB vs NZL\n",
            "⚠️ Coordonnées introuvables pour Davis Cup G1 SF: IND vs KOR\n",
            "⚠️ Coordonnées introuvables pour Davis Cup G1 QF: FIN vs SWE\n",
            "⚠️ Coordonnées introuvables pour Davis Cup G1 QF: ROU vs HUN\n",
            "⚠️ Coordonnées introuvables pour Davis Cup G1 QF: BLR vs RSA\n",
            "⚠️ Coordonnées introuvables pour Davis Cup G1 QF: MAR vs UKR\n",
            "⚠️ Coordonnées introuvables pour Davis Cup WG SF: ESP vs USA\n"
          ]
        },
        {
          "output_type": "error",
          "ename": "KeyboardInterrupt",
          "evalue": "",
          "traceback": [
            "\u001b[0;31m---------------------------------------------------------------------------\u001b[0m",
            "\u001b[0;31mKeyboardInterrupt\u001b[0m                         Traceback (most recent call last)",
            "\u001b[0;32m<ipython-input-5-53ee639b6733>\u001b[0m in \u001b[0;36m<cell line: 0>\u001b[0;34m()\u001b[0m\n\u001b[1;32m     32\u001b[0m             \u001b[0mprint\u001b[0m\u001b[0;34m(\u001b[0m\u001b[0;34mf\"❌ Erreur JSON pour {city}\"\u001b[0m\u001b[0;34m)\u001b[0m\u001b[0;34m\u001b[0m\u001b[0;34m\u001b[0m\u001b[0m\n\u001b[1;32m     33\u001b[0m \u001b[0;34m\u001b[0m\u001b[0m\n\u001b[0;32m---> 34\u001b[0;31m \u001b[0mget_all_city_coordinates\u001b[0m\u001b[0;34m(\u001b[0m\u001b[0;34m)\u001b[0m\u001b[0;34m\u001b[0m\u001b[0;34m\u001b[0m\u001b[0m\n\u001b[0m\u001b[1;32m     35\u001b[0m \u001b[0;34m\u001b[0m\u001b[0m\n",
            "\u001b[0;32m<ipython-input-5-53ee639b6733>\u001b[0m in \u001b[0;36mget_all_city_coordinates\u001b[0;34m()\u001b[0m\n\u001b[1;32m     21\u001b[0m         \u001b[0mgeocode_url\u001b[0m \u001b[0;34m=\u001b[0m \u001b[0;34mf\"https://nominatim.openstreetmap.org/search?city={city}&format=json\"\u001b[0m\u001b[0;34m\u001b[0m\u001b[0;34m\u001b[0m\u001b[0m\n\u001b[1;32m     22\u001b[0m         \u001b[0mresponse\u001b[0m \u001b[0;34m=\u001b[0m \u001b[0mrequests\u001b[0m\u001b[0;34m.\u001b[0m\u001b[0mget\u001b[0m\u001b[0;34m(\u001b[0m\u001b[0mgeocode_url\u001b[0m\u001b[0;34m,\u001b[0m \u001b[0mheaders\u001b[0m\u001b[0;34m=\u001b[0m\u001b[0mheaders\u001b[0m\u001b[0;34m)\u001b[0m  \u001b[0;31m# Ajout des headers\u001b[0m\u001b[0;34m\u001b[0m\u001b[0;34m\u001b[0m\u001b[0m\n\u001b[0;32m---> 23\u001b[0;31m         \u001b[0mtime\u001b[0m\u001b[0;34m.\u001b[0m\u001b[0msleep\u001b[0m\u001b[0;34m(\u001b[0m\u001b[0;36m1\u001b[0m\u001b[0;34m)\u001b[0m  \u001b[0;31m# Pause pour éviter le blocage\u001b[0m\u001b[0;34m\u001b[0m\u001b[0;34m\u001b[0m\u001b[0m\n\u001b[0m\u001b[1;32m     24\u001b[0m \u001b[0;34m\u001b[0m\u001b[0m\n\u001b[1;32m     25\u001b[0m         \u001b[0;32mtry\u001b[0m\u001b[0;34m:\u001b[0m\u001b[0;34m\u001b[0m\u001b[0;34m\u001b[0m\u001b[0m\n",
            "\u001b[0;31mKeyboardInterrupt\u001b[0m: "
          ]
        }
      ]
    }
  ]
}